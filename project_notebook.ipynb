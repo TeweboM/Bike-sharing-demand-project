{
 "cells": [
  {
   "cell_type": "markdown",
   "id": "a9977363-653a-4ab8-9783-9bf411efbba4",
   "metadata": {},
   "source": [
    "# Project 1 - For AWS ML Nanodegree Program\n",
    "## AWS Machine Learning Engineer Nanodegree\n",
    "## Step 1: Install Libraries"
   ]
  },
  {
   "cell_type": "code",
   "execution_count": 8,
   "id": "536b398d-4acb-40b7-af13-153eeef04550",
   "metadata": {},
   "outputs": [
    {
     "name": "stdout",
     "output_type": "stream",
     "text": [
      "Requirement already satisfied: pip in /opt/conda/lib/python3.12/site-packages (25.0.1)\n",
      "Collecting pip\n",
      "  Downloading pip-25.1.1-py3-none-any.whl.metadata (3.6 kB)\n",
      "Downloading pip-25.1.1-py3-none-any.whl (1.8 MB)\n",
      "\u001b[2K   \u001b[90m━━━━━━━━━━━━━━━━━━━━━━━━━━━━━━━━━━━━━━━━\u001b[0m \u001b[32m1.8/1.8 MB\u001b[0m \u001b[31m68.4 MB/s\u001b[0m eta \u001b[36m0:00:00\u001b[0m\n",
      "\u001b[?25hInstalling collected packages: pip\n",
      "  Attempting uninstall: pip\n",
      "    Found existing installation: pip 25.0.1\n",
      "    Uninstalling pip-25.0.1:\n",
      "      Successfully uninstalled pip-25.0.1\n",
      "Successfully installed pip-25.1.1\n",
      "Requirement already satisfied: setuptools in /opt/conda/lib/python3.12/site-packages (80.1.0)\n",
      "Collecting setuptools\n",
      "  Downloading setuptools-80.9.0-py3-none-any.whl.metadata (6.6 kB)\n",
      "Requirement already satisfied: wheel in /opt/conda/lib/python3.12/site-packages (0.45.1)\n",
      "Downloading setuptools-80.9.0-py3-none-any.whl (1.2 MB)\n",
      "\u001b[2K   \u001b[90m━━━━━━━━━━━━━━━━━━━━━━━━━━━━━━━━━━━━━━━━\u001b[0m \u001b[32m1.2/1.2 MB\u001b[0m \u001b[31m56.3 MB/s\u001b[0m eta \u001b[36m0:00:00\u001b[0m\n",
      "\u001b[?25hInstalling collected packages: setuptools\n",
      "  Attempting uninstall: setuptools\n",
      "    Found existing installation: setuptools 80.1.0\n",
      "    Uninstalling setuptools-80.1.0:\n",
      "      Successfully uninstalled setuptools-80.1.0\n",
      "\u001b[31mERROR: pip's dependency resolver does not currently take into account all the packages that are installed. This behaviour is the source of the following dependency conflicts.\n",
      "dash 2.18.1 requires dash-core-components==2.0.0, which is not installed.\n",
      "dash 2.18.1 requires dash-html-components==2.0.0, which is not installed.\n",
      "dash 2.18.1 requires dash-table==5.0.0, which is not installed.\n",
      "dash 2.18.1 requires Flask<3.1,>=1.0.4, but you have flask 3.1.0 which is incompatible.\n",
      "dash 2.18.1 requires Werkzeug<3.1, but you have werkzeug 3.1.3 which is incompatible.\n",
      "spacy 3.8.5 requires thinc<8.4.0,>=8.3.4, but you have thinc 8.3.2 which is incompatible.\n",
      "sparkmagic 0.21.0 requires pandas<2.0.0,>=0.17.1, but you have pandas 2.2.3 which is incompatible.\u001b[0m\u001b[31m\n",
      "\u001b[0mSuccessfully installed setuptools-80.9.0\n",
      "Collecting kaggle\n",
      "  Downloading kaggle-1.7.4.5-py3-none-any.whl.metadata (16 kB)\n",
      "Requirement already satisfied: bleach in /opt/conda/lib/python3.12/site-packages (from kaggle) (6.2.0)\n",
      "Requirement already satisfied: certifi>=14.05.14 in /opt/conda/lib/python3.12/site-packages (from kaggle) (2025.1.31)\n",
      "Requirement already satisfied: charset-normalizer in /opt/conda/lib/python3.12/site-packages (from kaggle) (3.4.2)\n",
      "Requirement already satisfied: idna in /opt/conda/lib/python3.12/site-packages (from kaggle) (3.10)\n",
      "Requirement already satisfied: protobuf in /opt/conda/lib/python3.12/site-packages (from kaggle) (5.28.3)\n",
      "Requirement already satisfied: python-dateutil>=2.5.3 in /opt/conda/lib/python3.12/site-packages (from kaggle) (2.9.0.post0)\n",
      "Requirement already satisfied: python-slugify in /opt/conda/lib/python3.12/site-packages (from kaggle) (8.0.4)\n",
      "Requirement already satisfied: requests in /opt/conda/lib/python3.12/site-packages (from kaggle) (2.32.3)\n",
      "Requirement already satisfied: setuptools>=21.0.0 in /opt/conda/lib/python3.12/site-packages (from kaggle) (80.9.0)\n",
      "Requirement already satisfied: six>=1.10 in /opt/conda/lib/python3.12/site-packages (from kaggle) (1.17.0)\n",
      "Requirement already satisfied: text-unidecode in /opt/conda/lib/python3.12/site-packages (from kaggle) (1.3)\n",
      "Requirement already satisfied: tqdm in /opt/conda/lib/python3.12/site-packages (from kaggle) (4.67.1)\n",
      "Requirement already satisfied: urllib3>=1.15.1 in /opt/conda/lib/python3.12/site-packages (from kaggle) (2.4.0)\n",
      "Requirement already satisfied: webencodings in /opt/conda/lib/python3.12/site-packages (from kaggle) (0.5.1)\n",
      "Downloading kaggle-1.7.4.5-py3-none-any.whl (181 kB)\n",
      "Installing collected packages: kaggle\n",
      "Successfully installed kaggle-1.7.4.5\n"
     ]
    }
   ],
   "source": [
    "!pip install -U pip\n",
    "!pip install -U setuptools wheel\n",
    "!pip install kaggle\n",
    "!pip install autogluon --no-cache-dir"
   ]
  },
  {
   "cell_type": "markdown",
   "id": "6337f5d7-621b-4394-8412-7a8113b9a24d",
   "metadata": {},
   "source": [
    "## Step 2: Download and Visualize Kaggle Data"
   ]
  },
  {
   "cell_type": "code",
   "execution_count": 2,
   "id": "9dae293f-1a93-42c0-8b2e-a04f9efd4f72",
   "metadata": {},
   "outputs": [],
   "source": [
    "username = \"teweboteshome\"\n",
    "key = \"022c5daa00b941e214b08e59729ff5c9\""
   ]
  },
  {
   "cell_type": "code",
   "execution_count": 9,
   "id": "57dfe120-0226-4c81-bc88-a331a956f08d",
   "metadata": {},
   "outputs": [],
   "source": [
    "import json\n",
    "import os\n",
    "\n",
    "# Create the .kaggle directory in the user's home directory\n",
    "!mkdir -p ~/.kaggle\n",
    "\n",
    "# Create the kaggle.json file\n",
    "!touch ~/.kaggle/kaggle.json\n",
    "\n",
    "# Set the correct permissions for the file\n",
    "!chmod 600 ~/.kaggle/kaggle.json\n",
    "\n",
    "kaggle_json_path = os.path.expanduser(\"~/.kaggle/kaggle.json\")\n",
    "kaggle_json_path\n",
    "\n",
    "# Save API token the kaggle.json file\n",
    "with open(kaggle_json_path, \"w\") as f:\n",
    "    f.write(json.dumps({\"username\": username, \"key\": key}))"
   ]
  },
  {
   "cell_type": "code",
   "execution_count": 10,
   "id": "d036c35c-3aa2-441b-a5c6-5f57c6e1291a",
   "metadata": {},
   "outputs": [
    {
     "name": "stdout",
     "output_type": "stream",
     "text": [
      "Downloading bike-sharing-demand.zip to /home/sagemaker-user\n",
      "  0%|                                                | 0.00/189k [00:00<?, ?B/s]\n",
      "100%|█████████████████████████████████████████| 189k/189k [00:00<00:00, 628MB/s]\n",
      "Archive:  bike-sharing-demand.zip\n",
      "  inflating: sampleSubmission.csv    \n",
      "  inflating: test.csv                \n",
      "  inflating: train.csv               \n"
     ]
    }
   ],
   "source": [
    "# Download the dataset, it will be in a .zip file so you'll need to unzip it as well.\n",
    "!kaggle competitions download -c bike-sharing-demand\n",
    "# If you already downloaded it you can use the -o command to overwrite the file\n",
    "!unzip -o bike-sharing-demand.zip"
   ]
  },
  {
   "cell_type": "code",
   "execution_count": 11,
   "id": "398e4a8c-f803-4399-ba88-93cf582cd6c0",
   "metadata": {},
   "outputs": [],
   "source": [
    "import pandas as pd\n",
    "from autogluon.tabular import TabularPredictor"
   ]
  },
  {
   "cell_type": "code",
   "execution_count": 12,
   "id": "be411a42-ee53-4334-89dd-b875d3f186c3",
   "metadata": {},
   "outputs": [
    {
     "data": {
      "text/html": [
       "<div>\n",
       "<style scoped>\n",
       "    .dataframe tbody tr th:only-of-type {\n",
       "        vertical-align: middle;\n",
       "    }\n",
       "\n",
       "    .dataframe tbody tr th {\n",
       "        vertical-align: top;\n",
       "    }\n",
       "\n",
       "    .dataframe thead th {\n",
       "        text-align: right;\n",
       "    }\n",
       "</style>\n",
       "<table border=\"1\" class=\"dataframe\">\n",
       "  <thead>\n",
       "    <tr style=\"text-align: right;\">\n",
       "      <th></th>\n",
       "      <th>datetime</th>\n",
       "      <th>season</th>\n",
       "      <th>holiday</th>\n",
       "      <th>workingday</th>\n",
       "      <th>weather</th>\n",
       "      <th>temp</th>\n",
       "      <th>atemp</th>\n",
       "      <th>humidity</th>\n",
       "      <th>windspeed</th>\n",
       "      <th>casual</th>\n",
       "      <th>registered</th>\n",
       "      <th>count</th>\n",
       "    </tr>\n",
       "  </thead>\n",
       "  <tbody>\n",
       "    <tr>\n",
       "      <th>0</th>\n",
       "      <td>2011-01-01 00:00:00</td>\n",
       "      <td>1</td>\n",
       "      <td>0</td>\n",
       "      <td>0</td>\n",
       "      <td>1</td>\n",
       "      <td>9.84</td>\n",
       "      <td>14.395</td>\n",
       "      <td>81</td>\n",
       "      <td>0.0</td>\n",
       "      <td>3</td>\n",
       "      <td>13</td>\n",
       "      <td>16</td>\n",
       "    </tr>\n",
       "    <tr>\n",
       "      <th>1</th>\n",
       "      <td>2011-01-01 01:00:00</td>\n",
       "      <td>1</td>\n",
       "      <td>0</td>\n",
       "      <td>0</td>\n",
       "      <td>1</td>\n",
       "      <td>9.02</td>\n",
       "      <td>13.635</td>\n",
       "      <td>80</td>\n",
       "      <td>0.0</td>\n",
       "      <td>8</td>\n",
       "      <td>32</td>\n",
       "      <td>40</td>\n",
       "    </tr>\n",
       "    <tr>\n",
       "      <th>2</th>\n",
       "      <td>2011-01-01 02:00:00</td>\n",
       "      <td>1</td>\n",
       "      <td>0</td>\n",
       "      <td>0</td>\n",
       "      <td>1</td>\n",
       "      <td>9.02</td>\n",
       "      <td>13.635</td>\n",
       "      <td>80</td>\n",
       "      <td>0.0</td>\n",
       "      <td>5</td>\n",
       "      <td>27</td>\n",
       "      <td>32</td>\n",
       "    </tr>\n",
       "    <tr>\n",
       "      <th>3</th>\n",
       "      <td>2011-01-01 03:00:00</td>\n",
       "      <td>1</td>\n",
       "      <td>0</td>\n",
       "      <td>0</td>\n",
       "      <td>1</td>\n",
       "      <td>9.84</td>\n",
       "      <td>14.395</td>\n",
       "      <td>75</td>\n",
       "      <td>0.0</td>\n",
       "      <td>3</td>\n",
       "      <td>10</td>\n",
       "      <td>13</td>\n",
       "    </tr>\n",
       "    <tr>\n",
       "      <th>4</th>\n",
       "      <td>2011-01-01 04:00:00</td>\n",
       "      <td>1</td>\n",
       "      <td>0</td>\n",
       "      <td>0</td>\n",
       "      <td>1</td>\n",
       "      <td>9.84</td>\n",
       "      <td>14.395</td>\n",
       "      <td>75</td>\n",
       "      <td>0.0</td>\n",
       "      <td>0</td>\n",
       "      <td>1</td>\n",
       "      <td>1</td>\n",
       "    </tr>\n",
       "  </tbody>\n",
       "</table>\n",
       "</div>"
      ],
      "text/plain": [
       "              datetime  season  holiday  ...  casual  registered  count\n",
       "0  2011-01-01 00:00:00       1        0  ...       3          13     16\n",
       "1  2011-01-01 01:00:00       1        0  ...       8          32     40\n",
       "2  2011-01-01 02:00:00       1        0  ...       5          27     32\n",
       "3  2011-01-01 03:00:00       1        0  ...       3          10     13\n",
       "4  2011-01-01 04:00:00       1        0  ...       0           1      1\n",
       "\n",
       "[5 rows x 12 columns]"
      ]
     },
     "execution_count": 12,
     "metadata": {},
     "output_type": "execute_result"
    }
   ],
   "source": [
    "train = pd.read_csv(\"train.csv\")\n",
    "train.head()"
   ]
  },
  {
   "cell_type": "code",
   "execution_count": 13,
   "id": "9086b03f-11ea-4971-82cd-60b351c4b714",
   "metadata": {},
   "outputs": [
    {
     "data": {
      "text/html": [
       "<div>\n",
       "<style scoped>\n",
       "    .dataframe tbody tr th:only-of-type {\n",
       "        vertical-align: middle;\n",
       "    }\n",
       "\n",
       "    .dataframe tbody tr th {\n",
       "        vertical-align: top;\n",
       "    }\n",
       "\n",
       "    .dataframe thead th {\n",
       "        text-align: right;\n",
       "    }\n",
       "</style>\n",
       "<table border=\"1\" class=\"dataframe\">\n",
       "  <thead>\n",
       "    <tr style=\"text-align: right;\">\n",
       "      <th></th>\n",
       "      <th>datetime</th>\n",
       "      <th>season</th>\n",
       "      <th>holiday</th>\n",
       "      <th>workingday</th>\n",
       "      <th>weather</th>\n",
       "      <th>temp</th>\n",
       "      <th>atemp</th>\n",
       "      <th>humidity</th>\n",
       "      <th>windspeed</th>\n",
       "    </tr>\n",
       "  </thead>\n",
       "  <tbody>\n",
       "    <tr>\n",
       "      <th>0</th>\n",
       "      <td>2011-01-20 00:00:00</td>\n",
       "      <td>1</td>\n",
       "      <td>0</td>\n",
       "      <td>1</td>\n",
       "      <td>1</td>\n",
       "      <td>10.66</td>\n",
       "      <td>11.365</td>\n",
       "      <td>56</td>\n",
       "      <td>26.0027</td>\n",
       "    </tr>\n",
       "    <tr>\n",
       "      <th>1</th>\n",
       "      <td>2011-01-20 01:00:00</td>\n",
       "      <td>1</td>\n",
       "      <td>0</td>\n",
       "      <td>1</td>\n",
       "      <td>1</td>\n",
       "      <td>10.66</td>\n",
       "      <td>13.635</td>\n",
       "      <td>56</td>\n",
       "      <td>0.0000</td>\n",
       "    </tr>\n",
       "    <tr>\n",
       "      <th>2</th>\n",
       "      <td>2011-01-20 02:00:00</td>\n",
       "      <td>1</td>\n",
       "      <td>0</td>\n",
       "      <td>1</td>\n",
       "      <td>1</td>\n",
       "      <td>10.66</td>\n",
       "      <td>13.635</td>\n",
       "      <td>56</td>\n",
       "      <td>0.0000</td>\n",
       "    </tr>\n",
       "    <tr>\n",
       "      <th>3</th>\n",
       "      <td>2011-01-20 03:00:00</td>\n",
       "      <td>1</td>\n",
       "      <td>0</td>\n",
       "      <td>1</td>\n",
       "      <td>1</td>\n",
       "      <td>10.66</td>\n",
       "      <td>12.880</td>\n",
       "      <td>56</td>\n",
       "      <td>11.0014</td>\n",
       "    </tr>\n",
       "    <tr>\n",
       "      <th>4</th>\n",
       "      <td>2011-01-20 04:00:00</td>\n",
       "      <td>1</td>\n",
       "      <td>0</td>\n",
       "      <td>1</td>\n",
       "      <td>1</td>\n",
       "      <td>10.66</td>\n",
       "      <td>12.880</td>\n",
       "      <td>56</td>\n",
       "      <td>11.0014</td>\n",
       "    </tr>\n",
       "  </tbody>\n",
       "</table>\n",
       "</div>"
      ],
      "text/plain": [
       "              datetime  season  holiday  ...   atemp  humidity  windspeed\n",
       "0  2011-01-20 00:00:00       1        0  ...  11.365        56    26.0027\n",
       "1  2011-01-20 01:00:00       1        0  ...  13.635        56     0.0000\n",
       "2  2011-01-20 02:00:00       1        0  ...  13.635        56     0.0000\n",
       "3  2011-01-20 03:00:00       1        0  ...  12.880        56    11.0014\n",
       "4  2011-01-20 04:00:00       1        0  ...  12.880        56    11.0014\n",
       "\n",
       "[5 rows x 9 columns]"
      ]
     },
     "execution_count": 13,
     "metadata": {},
     "output_type": "execute_result"
    }
   ],
   "source": [
    "test = pd.read_csv('test.csv')\n",
    "test.head()"
   ]
  },
  {
   "cell_type": "code",
   "execution_count": 14,
   "id": "c07b87e1-a28a-4ed7-b6c5-a58d40e814f1",
   "metadata": {},
   "outputs": [
    {
     "data": {
      "text/plain": [
       "datetime      0\n",
       "season        0\n",
       "holiday       0\n",
       "workingday    0\n",
       "weather       0\n",
       "temp          0\n",
       "atemp         0\n",
       "humidity      0\n",
       "windspeed     0\n",
       "casual        0\n",
       "registered    0\n",
       "count         0\n",
       "dtype: int64"
      ]
     },
     "execution_count": 14,
     "metadata": {},
     "output_type": "execute_result"
    }
   ],
   "source": [
    "train.isna().sum()"
   ]
  },
  {
   "cell_type": "code",
   "execution_count": 15,
   "id": "e3f549c3-3b0d-4529-914a-8bee3a41f7ff",
   "metadata": {},
   "outputs": [
    {
     "data": {
      "text/plain": [
       "datetime      0\n",
       "season        0\n",
       "holiday       0\n",
       "workingday    0\n",
       "weather       0\n",
       "temp          0\n",
       "atemp         0\n",
       "humidity      0\n",
       "windspeed     0\n",
       "dtype: int64"
      ]
     },
     "execution_count": 15,
     "metadata": {},
     "output_type": "execute_result"
    }
   ],
   "source": [
    "test.isna().sum()"
   ]
  },
  {
   "cell_type": "code",
   "execution_count": 16,
   "id": "6da6d5fa-6d50-4e84-b99f-1d9a85f9628e",
   "metadata": {},
   "outputs": [],
   "source": [
    "train['datetime'] = pd.to_datetime(train['datetime'])\n",
    "test['datetime'] = pd.to_datetime(test['datetime'])"
   ]
  },
  {
   "cell_type": "code",
   "execution_count": 17,
   "id": "3561f18b-48b8-466d-a238-f77067e9e7a2",
   "metadata": {},
   "outputs": [
    {
     "data": {
      "text/html": [
       "<div>\n",
       "<style scoped>\n",
       "    .dataframe tbody tr th:only-of-type {\n",
       "        vertical-align: middle;\n",
       "    }\n",
       "\n",
       "    .dataframe tbody tr th {\n",
       "        vertical-align: top;\n",
       "    }\n",
       "\n",
       "    .dataframe thead th {\n",
       "        text-align: right;\n",
       "    }\n",
       "</style>\n",
       "<table border=\"1\" class=\"dataframe\">\n",
       "  <thead>\n",
       "    <tr style=\"text-align: right;\">\n",
       "      <th></th>\n",
       "      <th>datetime</th>\n",
       "      <th>count</th>\n",
       "    </tr>\n",
       "  </thead>\n",
       "  <tbody>\n",
       "    <tr>\n",
       "      <th>0</th>\n",
       "      <td>2011-01-20 00:00:00</td>\n",
       "      <td>0</td>\n",
       "    </tr>\n",
       "    <tr>\n",
       "      <th>1</th>\n",
       "      <td>2011-01-20 01:00:00</td>\n",
       "      <td>0</td>\n",
       "    </tr>\n",
       "    <tr>\n",
       "      <th>2</th>\n",
       "      <td>2011-01-20 02:00:00</td>\n",
       "      <td>0</td>\n",
       "    </tr>\n",
       "    <tr>\n",
       "      <th>3</th>\n",
       "      <td>2011-01-20 03:00:00</td>\n",
       "      <td>0</td>\n",
       "    </tr>\n",
       "    <tr>\n",
       "      <th>4</th>\n",
       "      <td>2011-01-20 04:00:00</td>\n",
       "      <td>0</td>\n",
       "    </tr>\n",
       "  </tbody>\n",
       "</table>\n",
       "</div>"
      ],
      "text/plain": [
       "              datetime  count\n",
       "0  2011-01-20 00:00:00      0\n",
       "1  2011-01-20 01:00:00      0\n",
       "2  2011-01-20 02:00:00      0\n",
       "3  2011-01-20 03:00:00      0\n",
       "4  2011-01-20 04:00:00      0"
      ]
     },
     "execution_count": 17,
     "metadata": {},
     "output_type": "execute_result"
    }
   ],
   "source": [
    "submission = pd.read_csv('sampleSubmission.csv')\n",
    "submission.head()"
   ]
  },
  {
   "cell_type": "markdown",
   "id": "0175f5cd-442f-4814-b333-e9ed9e14d68a",
   "metadata": {},
   "source": [
    "## Step 3: Train a model using AutoGluon’s Tabular Prediction"
   ]
  },
  {
   "cell_type": "code",
   "execution_count": 18,
   "id": "4c1966ae-d1a7-4613-9b10-68b16ca2f0fd",
   "metadata": {},
   "outputs": [],
   "source": [
    "train = train.drop(columns=['casual', 'registered'])"
   ]
  },
  {
   "cell_type": "code",
   "execution_count": 19,
   "id": "9f00b129-999d-4fbf-82bf-ac76cd20d8de",
   "metadata": {},
   "outputs": [
    {
     "data": {
      "text/plain": [
       "Index(['datetime', 'season', 'holiday', 'workingday', 'weather', 'temp',\n",
       "       'atemp', 'humidity', 'windspeed', 'count'],\n",
       "      dtype='object')"
      ]
     },
     "execution_count": 19,
     "metadata": {},
     "output_type": "execute_result"
    }
   ],
   "source": [
    "train.columns"
   ]
  },
  {
   "cell_type": "code",
   "execution_count": 20,
   "id": "22012fcb-1bd7-4b0e-abcd-ac06a978a583",
   "metadata": {},
   "outputs": [
    {
     "name": "stderr",
     "output_type": "stream",
     "text": [
      "No path specified. Models will be saved in: \"AutogluonModels/ag-20250527_171027\"\n",
      "Verbosity: 2 (Standard Logging)\n",
      "=================== System Info ===================\n",
      "AutoGluon Version:  1.2\n",
      "Python Version:     3.12.9\n",
      "Operating System:   Linux\n",
      "Platform Machine:   x86_64\n",
      "Platform Version:   #1 SMP Sat Apr 19 16:54:57 UTC 2025\n",
      "CPU Count:          2\n",
      "Memory Avail:       1.85 GB / 3.76 GB (49.1%)\n",
      "Disk Space Avail:   4.90 GB / 4.99 GB (98.2%)\n",
      "\tWARNING: Available disk space is low and there is a risk that AutoGluon will run out of disk during fit, causing an exception. \n",
      "\tWe recommend a minimum available disk space of 10 GB, and large datasets may require more.\n",
      "===================================================\n",
      "Presets specified: ['best_quality']\n",
      "Setting dynamic_stacking from 'auto' to True. Reason: Enable dynamic_stacking when use_bag_holdout is disabled. (use_bag_holdout=False)\n",
      "Stack configuration (auto_stack=True): num_stack_levels=1, num_bag_folds=8, num_bag_sets=1\n",
      "DyStack is enabled (dynamic_stacking=True). AutoGluon will try to determine whether the input data is affected by stacked overfitting and enable or disable stacking as a consequence.\n",
      "\tThis is used to identify the optimal `num_stack_levels` value. Copies of AutoGluon will be fit on subsets of the data. Then holdout validation data is used to detect stacked overfitting.\n",
      "\tRunning DyStack for up to 150s of the 600s of remaining time (25%).\n",
      "\tRunning DyStack sub-fit in a ray process to avoid memory leakage. Enabling ray logging (enable_ray_logging=True). Specify `ds_args={'enable_ray_logging': False}` if you experience logging issues.\n",
      "2025-05-27 17:10:31,108\tWARNING services.py:2022 -- WARNING: The object store is using /tmp instead of /dev/shm because /dev/shm has only 411021312 bytes available. This will harm performance! You may be able to free up space by deleting files in /dev/shm. If you are inside a Docker container, you can increase /dev/shm size by passing '--shm-size=0.90gb' to 'docker run' (or add it to the run_options list in a Ray cluster config). Make sure to set this to more than 30% of available RAM.\n",
      "2025-05-27 17:10:32,408\tINFO worker.py:1812 -- Started a local Ray instance. View the dashboard at \u001b[1m\u001b[32mhttp://127.0.0.1:8265 \u001b[39m\u001b[22m\n",
      "\t\tContext path: \"/home/sagemaker-user/AutogluonModels/ag-20250527_171027/ds_sub_fit/sub_fit_ho\"\n",
      "\u001b[36m(_dystack pid=883)\u001b[0m Running DyStack sub-fit ...\n",
      "\u001b[36m(_dystack pid=883)\u001b[0m /opt/conda/lib/python3.12/site-packages/autogluon/common/utils/utils.py:78: UserWarning: pkg_resources is deprecated as an API. See https://setuptools.pypa.io/en/latest/pkg_resources.html. The pkg_resources package is slated for removal as early as 2025-11-30. Refrain from using this package or pin to Setuptools<81.\n",
      "\u001b[36m(_dystack pid=883)\u001b[0m   import pkg_resources\n",
      "\u001b[36m(_dystack pid=883)\u001b[0m Beginning AutoGluon training ... Time limit = 144s\n",
      "\u001b[36m(_dystack pid=883)\u001b[0m AutoGluon will save models to \"/home/sagemaker-user/AutogluonModels/ag-20250527_171027/ds_sub_fit/sub_fit_ho\"\n",
      "\u001b[36m(_dystack pid=883)\u001b[0m Train Data Rows:    9676\n",
      "\u001b[36m(_dystack pid=883)\u001b[0m Train Data Columns: 9\n",
      "\u001b[36m(_dystack pid=883)\u001b[0m Label Column:       count\n",
      "\u001b[36m(_dystack pid=883)\u001b[0m Problem Type:       regression\n",
      "\u001b[36m(_dystack pid=883)\u001b[0m Preprocessing data ...\n",
      "\u001b[36m(_dystack pid=883)\u001b[0m Using Feature Generators to preprocess the data ...\n",
      "\u001b[36m(_dystack pid=883)\u001b[0m Fitting AutoMLPipelineFeatureGenerator...\n",
      "\u001b[36m(_dystack pid=883)\u001b[0m \tAvailable Memory:                    1497.33 MB\n",
      "\u001b[36m(_dystack pid=883)\u001b[0m \tTrain Data (Original)  Memory Usage: 0.66 MB (0.0% of available memory)\n",
      "\u001b[36m(_dystack pid=883)\u001b[0m \tInferring data type of each feature based on column values. Set feature_metadata_in to manually specify special dtypes of the features.\n",
      "\u001b[36m(_dystack pid=883)\u001b[0m \tStage 1 Generators:\n",
      "\u001b[36m(_dystack pid=883)\u001b[0m \t\tFitting AsTypeFeatureGenerator...\n",
      "\u001b[36m(_dystack pid=883)\u001b[0m \t\t\tNote: Converting 2 features to boolean dtype as they only contain 2 unique values.\n",
      "\u001b[36m(_dystack pid=883)\u001b[0m \tStage 2 Generators:\n",
      "\u001b[36m(_dystack pid=883)\u001b[0m \t\tFitting FillNaFeatureGenerator...\n",
      "\u001b[36m(_dystack pid=883)\u001b[0m \tStage 3 Generators:\n",
      "\u001b[36m(_dystack pid=883)\u001b[0m \t\tFitting IdentityFeatureGenerator...\n",
      "\u001b[36m(_dystack pid=883)\u001b[0m \t\tFitting DatetimeFeatureGenerator...\n",
      "\u001b[36m(_dystack pid=883)\u001b[0m \tStage 4 Generators:\n",
      "\u001b[36m(_dystack pid=883)\u001b[0m \t\tFitting DropUniqueFeatureGenerator...\n",
      "\u001b[36m(_dystack pid=883)\u001b[0m \tStage 5 Generators:\n",
      "\u001b[36m(_dystack pid=883)\u001b[0m \t\tFitting DropDuplicatesFeatureGenerator...\n",
      "\u001b[36m(_dystack pid=883)\u001b[0m \tTypes of features in original data (raw dtype, special dtypes):\n",
      "\u001b[36m(_dystack pid=883)\u001b[0m \t\t('datetime', []) : 1 | ['datetime']\n",
      "\u001b[36m(_dystack pid=883)\u001b[0m \t\t('float', [])    : 3 | ['temp', 'atemp', 'windspeed']\n",
      "\u001b[36m(_dystack pid=883)\u001b[0m \t\t('int', [])      : 5 | ['season', 'holiday', 'workingday', 'weather', 'humidity']\n",
      "\u001b[36m(_dystack pid=883)\u001b[0m \tTypes of features in processed data (raw dtype, special dtypes):\n",
      "\u001b[36m(_dystack pid=883)\u001b[0m \t\t('float', [])                : 3 | ['temp', 'atemp', 'windspeed']\n",
      "\u001b[36m(_dystack pid=883)\u001b[0m \t\t('int', [])                  : 3 | ['season', 'weather', 'humidity']\n",
      "\u001b[36m(_dystack pid=883)\u001b[0m \t\t('int', ['bool'])            : 2 | ['holiday', 'workingday']\n",
      "\u001b[36m(_dystack pid=883)\u001b[0m \t\t('int', ['datetime_as_int']) : 5 | ['datetime', 'datetime.year', 'datetime.month', 'datetime.day', 'datetime.dayofweek']\n",
      "\u001b[36m(_dystack pid=883)\u001b[0m \t0.1s = Fit runtime\n",
      "\u001b[36m(_dystack pid=883)\u001b[0m \t9 features in original data used to generate 13 features in processed data.\n",
      "\u001b[36m(_dystack pid=883)\u001b[0m \tTrain Data (Processed) Memory Usage: 0.83 MB (0.1% of available memory)\n",
      "\u001b[36m(_dystack pid=883)\u001b[0m Data preprocessing and feature engineering runtime = 0.11s ...\n",
      "\u001b[36m(_dystack pid=883)\u001b[0m AutoGluon will gauge predictive performance using evaluation metric: 'root_mean_squared_error'\n",
      "\u001b[36m(_dystack pid=883)\u001b[0m \tThis metric's sign has been flipped to adhere to being higher_is_better. The metric score can be multiplied by -1 to get the metric value.\n",
      "\u001b[36m(_dystack pid=883)\u001b[0m \tTo change this, specify the eval_metric parameter of Predictor()\n",
      "\u001b[36m(_dystack pid=883)\u001b[0m Large model count detected (112 configs) ... Only displaying the first 3 models of each family. To see all, set `verbosity=3`.\n",
      "\u001b[36m(_dystack pid=883)\u001b[0m User-specified model hyperparameters to be fit:\n",
      "\u001b[36m(_dystack pid=883)\u001b[0m {\n",
      "\u001b[36m(_dystack pid=883)\u001b[0m \t'NN_TORCH': [{}, {'activation': 'elu', 'dropout_prob': 0.10077639529843717, 'hidden_size': 108, 'learning_rate': 0.002735937344002146, 'num_layers': 4, 'use_batchnorm': True, 'weight_decay': 1.356433327634438e-12, 'ag_args': {'name_suffix': '_r79', 'priority': -2}}, {'activation': 'elu', 'dropout_prob': 0.11897478034205347, 'hidden_size': 213, 'learning_rate': 0.0010474382260641949, 'num_layers': 4, 'use_batchnorm': False, 'weight_decay': 5.594471067786272e-10, 'ag_args': {'name_suffix': '_r22', 'priority': -7}}],\n",
      "\u001b[36m(_dystack pid=883)\u001b[0m \t'GBM': [{'extra_trees': True, 'ag_args': {'name_suffix': 'XT'}}, {}, {'learning_rate': 0.03, 'num_leaves': 128, 'feature_fraction': 0.9, 'min_data_in_leaf': 3, 'ag_args': {'name_suffix': 'Large', 'priority': 0, 'hyperparameter_tune_kwargs': None}}],\n",
      "\u001b[36m(_dystack pid=883)\u001b[0m \t'CAT': [{}, {'depth': 6, 'grow_policy': 'SymmetricTree', 'l2_leaf_reg': 2.1542798306067823, 'learning_rate': 0.06864209415792857, 'max_ctr_complexity': 4, 'one_hot_max_size': 10, 'ag_args': {'name_suffix': '_r177', 'priority': -1}}, {'depth': 8, 'grow_policy': 'Depthwise', 'l2_leaf_reg': 2.7997999596449104, 'learning_rate': 0.031375015734637225, 'max_ctr_complexity': 2, 'one_hot_max_size': 3, 'ag_args': {'name_suffix': '_r9', 'priority': -5}}],\n",
      "\u001b[36m(_dystack pid=883)\u001b[0m \t'XGB': [{}, {'colsample_bytree': 0.6917311125174739, 'enable_categorical': False, 'learning_rate': 0.018063876087523967, 'max_depth': 10, 'min_child_weight': 0.6028633586934382, 'ag_args': {'name_suffix': '_r33', 'priority': -8}}, {'colsample_bytree': 0.6628423832084077, 'enable_categorical': False, 'learning_rate': 0.08775715546881824, 'max_depth': 5, 'min_child_weight': 0.6294123374222513, 'ag_args': {'name_suffix': '_r89', 'priority': -16}}],\n",
      "\u001b[36m(_dystack pid=883)\u001b[0m \t'FASTAI': [{}, {'bs': 256, 'emb_drop': 0.5411770367537934, 'epochs': 43, 'layers': [800, 400], 'lr': 0.01519848858318159, 'ps': 0.23782946566604385, 'ag_args': {'name_suffix': '_r191', 'priority': -4}}, {'bs': 2048, 'emb_drop': 0.05070411322605811, 'epochs': 29, 'layers': [200, 100], 'lr': 0.08974235041576624, 'ps': 0.10393466140748028, 'ag_args': {'name_suffix': '_r102', 'priority': -11}}],\n",
      "\u001b[36m(_dystack pid=883)\u001b[0m \t'RF': [{'criterion': 'gini', 'ag_args': {'name_suffix': 'Gini', 'problem_types': ['binary', 'multiclass']}}, {'criterion': 'entropy', 'ag_args': {'name_suffix': 'Entr', 'problem_types': ['binary', 'multiclass']}}, {'criterion': 'squared_error', 'ag_args': {'name_suffix': 'MSE', 'problem_types': ['regression', 'quantile']}}],\n",
      "\u001b[36m(_dystack pid=883)\u001b[0m \t'XT': [{'criterion': 'gini', 'ag_args': {'name_suffix': 'Gini', 'problem_types': ['binary', 'multiclass']}}, {'criterion': 'entropy', 'ag_args': {'name_suffix': 'Entr', 'problem_types': ['binary', 'multiclass']}}, {'criterion': 'squared_error', 'ag_args': {'name_suffix': 'MSE', 'problem_types': ['regression', 'quantile']}}],\n",
      "\u001b[36m(_dystack pid=883)\u001b[0m \t'KNN': [{'weights': 'uniform', 'ag_args': {'name_suffix': 'Unif'}}, {'weights': 'distance', 'ag_args': {'name_suffix': 'Dist'}}],\n",
      "\u001b[36m(_dystack pid=883)\u001b[0m }\n",
      "\u001b[36m(_dystack pid=883)\u001b[0m AutoGluon will fit 2 stack levels (L1 to L2) ...\n",
      "\u001b[36m(_dystack pid=883)\u001b[0m Fitting 108 L1 models, fit_strategy=\"sequential\" ...\n",
      "\u001b[36m(_dystack pid=883)\u001b[0m Fitting model: KNeighborsUnif_BAG_L1 ... Training model for up to 95.58s of the 143.39s of remaining time.\n",
      "\u001b[36m(_dystack pid=883)\u001b[0m \t-107.445\t = Validation score   (-root_mean_squared_error)\n",
      "\u001b[36m(_dystack pid=883)\u001b[0m \t0.02s\t = Training   runtime\n",
      "\u001b[36m(_dystack pid=883)\u001b[0m \t0.06s\t = Validation runtime\n",
      "\u001b[36m(_dystack pid=883)\u001b[0m Fitting model: KNeighborsDist_BAG_L1 ... Training model for up to 92.00s of the 139.81s of remaining time.\n",
      "\u001b[36m(_dystack pid=883)\u001b[0m \t-89.9469\t = Validation score   (-root_mean_squared_error)\n",
      "\u001b[36m(_dystack pid=883)\u001b[0m \t0.02s\t = Training   runtime\n",
      "\u001b[36m(_dystack pid=883)\u001b[0m \t0.05s\t = Validation runtime\n",
      "\u001b[36m(_dystack pid=883)\u001b[0m Fitting model: LightGBMXT_BAG_L1 ... Training model for up to 91.91s of the 139.73s of remaining time.\n",
      "\u001b[36m(_dystack pid=883)\u001b[0m \tFitting 8 child models (S1F1 - S1F8) | Fitting with ParallelLocalFoldFittingStrategy (2 workers, per: cpus=1, gpus=0, memory=0.56%)\n"
     ]
    },
    {
     "name": "stdout",
     "output_type": "stream",
     "text": [
      "\u001b[36m(_ray_fit pid=1018)\u001b[0m [1000]\tvalid_set's rmse: 129.692\n",
      "\u001b[36m(_ray_fit pid=1116)\u001b[0m [1000]\tvalid_set's rmse: 132.725\u001b[32m [repeated 5x across cluster] (Ray deduplicates logs by default. Set RAY_DEDUP_LOGS=0 to disable log deduplication, or see https://docs.ray.io/en/master/ray-observability/user-guides/configure-logging.html#log-deduplication for more options.)\u001b[0m\n",
      "\u001b[36m(_ray_fit pid=1152)\u001b[0m [1000]\tvalid_set's rmse: 128.154\n",
      "\u001b[36m(_ray_fit pid=1152)\u001b[0m [2000]\tvalid_set's rmse: 126.702\n",
      "\u001b[36m(_ray_fit pid=1152)\u001b[0m [3000]\tvalid_set's rmse: 126.147\n",
      "\u001b[36m(_ray_fit pid=1152)\u001b[0m [6000]\tvalid_set's rmse: 125.468\u001b[32m [repeated 6x across cluster]\u001b[0m\n",
      "\u001b[36m(_ray_fit pid=1186)\u001b[0m [8000]\tvalid_set's rmse: 132.379\u001b[32m [repeated 8x across cluster]\u001b[0m\n",
      "\u001b[36m(_ray_fit pid=1226)\u001b[0m [1000]\tvalid_set's rmse: 137.712\u001b[32m [repeated 2x across cluster]\u001b[0m\n",
      "\u001b[36m(_ray_fit pid=1262)\u001b[0m [2000]\tvalid_set's rmse: 138.865\u001b[32m [repeated 6x across cluster]\u001b[0m\n"
     ]
    },
    {
     "name": "stderr",
     "output_type": "stream",
     "text": [
      "\u001b[36m(_dystack pid=883)\u001b[0m \t-131.9758\t = Validation score   (-root_mean_squared_error)\n",
      "\u001b[36m(_dystack pid=883)\u001b[0m \t57.66s\t = Training   runtime\n",
      "\u001b[36m(_dystack pid=883)\u001b[0m \t12.82s\t = Validation runtime\n",
      "\u001b[36m(_dystack pid=883)\u001b[0m Fitting model: LightGBM_BAG_L1 ... Training model for up to 27.56s of the 75.37s of remaining time.\n",
      "\u001b[36m(_dystack pid=883)\u001b[0m \tFitting 8 child models (S1F1 - S1F8) | Fitting with ParallelLocalFoldFittingStrategy (2 workers, per: cpus=1, gpus=0, memory=0.58%)\n"
     ]
    },
    {
     "name": "stdout",
     "output_type": "stream",
     "text": [
      "\u001b[36m(_ray_fit pid=1310)\u001b[0m [1000]\tvalid_set's rmse: 129.285\u001b[32m [repeated 7x across cluster]\u001b[0m\n",
      "\u001b[36m(_ray_fit pid=1379)\u001b[0m [1000]\tvalid_set's rmse: 135.098\u001b[32m [repeated 2x across cluster]\u001b[0m\n",
      "\u001b[36m(_ray_fit pid=1450)\u001b[0m [1000]\tvalid_set's rmse: 124.896\n",
      "\u001b[36m(_ray_fit pid=1483)\u001b[0m [1000]\tvalid_set's rmse: 134.058\n"
     ]
    },
    {
     "name": "stderr",
     "output_type": "stream",
     "text": [
      "\u001b[36m(_dystack pid=883)\u001b[0m WARNING: All log messages before absl::InitializeLog() is called are written to STDERR\n",
      "\u001b[36m(_dystack pid=883)\u001b[0m I0000 00:00:1748365928.363705     924 chttp2_transport.cc:1182] ipv4:169.255.255.2:43219: Got goaway [2] err=UNAVAILABLE:GOAWAY received; Error code: 2; Debug Text: Cancelling all calls {created_time:\"2025-05-27T17:12:08.362542923+00:00\", http2_error:2, grpc_status:14}\n"
     ]
    },
    {
     "name": "stdout",
     "output_type": "stream",
     "text": [
      "\u001b[36m(_ray_fit pid=1553)\u001b[0m [1000]\tvalid_set's rmse: 136.511\u001b[32m [repeated 2x across cluster]\u001b[0m\n"
     ]
    },
    {
     "name": "stderr",
     "output_type": "stream",
     "text": [
      "\u001b[36m(_dystack pid=883)\u001b[0m \t-131.8496\t = Validation score   (-root_mean_squared_error)\n",
      "\u001b[36m(_dystack pid=883)\u001b[0m \t26.66s\t = Training   runtime\n",
      "\u001b[36m(_dystack pid=883)\u001b[0m \t1.06s\t = Validation runtime\n",
      "\u001b[36m(_dystack pid=883)\u001b[0m Fitting model: WeightedEnsemble_L2 ... Training model for up to 143.40s of the 45.02s of remaining time.\n",
      "\u001b[36m(_dystack pid=883)\u001b[0m \tEnsemble Weights: {'KNeighborsDist_BAG_L1': 1.0}\n",
      "\u001b[36m(_dystack pid=883)\u001b[0m \t-89.9469\t = Validation score   (-root_mean_squared_error)\n",
      "\u001b[36m(_dystack pid=883)\u001b[0m \t0.03s\t = Training   runtime\n",
      "\u001b[36m(_dystack pid=883)\u001b[0m \t0.0s\t = Validation runtime\n",
      "\u001b[36m(_dystack pid=883)\u001b[0m Fitting 106 L2 models, fit_strategy=\"sequential\" ...\n",
      "\u001b[36m(_dystack pid=883)\u001b[0m Fitting model: LightGBMXT_BAG_L2 ... Training model for up to 44.98s of the 44.95s of remaining time.\n",
      "\u001b[36m(_dystack pid=883)\u001b[0m \tFitting 8 child models (S1F1 - S1F8) | Fitting with ParallelLocalFoldFittingStrategy (2 workers, per: cpus=1, gpus=0, memory=0.68%)\n"
     ]
    },
    {
     "name": "stdout",
     "output_type": "stream",
     "text": [
      "\u001b[36m(_ray_fit pid=1589)\u001b[0m [1000]\tvalid_set's rmse: 68.8067\n",
      "\u001b[36m(_ray_fit pid=1590)\u001b[0m [1000]\tvalid_set's rmse: 69.9415\n",
      "\u001b[36m(_ray_fit pid=1657)\u001b[0m [1000]\tvalid_set's rmse: 78.2341\n",
      "\u001b[36m(_ray_fit pid=1688)\u001b[0m [1000]\tvalid_set's rmse: 72.9773\n",
      "\u001b[36m(_ray_fit pid=1731)\u001b[0m [1000]\tvalid_set's rmse: 75.8581\n",
      "\u001b[36m(_ray_fit pid=1764)\u001b[0m [1000]\tvalid_set's rmse: 76.948\n",
      "\u001b[36m(_ray_fit pid=1798)\u001b[0m [1000]\tvalid_set's rmse: 71.9787\n",
      "\u001b[36m(_ray_fit pid=1829)\u001b[0m [1000]\tvalid_set's rmse: 75.9102\n",
      "\u001b[36m(_ray_fit pid=1829)\u001b[0m [2000]\tvalid_set's rmse: 75.2777\n"
     ]
    },
    {
     "name": "stderr",
     "output_type": "stream",
     "text": [
      "\u001b[36m(_dystack pid=883)\u001b[0m \t-73.6831\t = Validation score   (-root_mean_squared_error)\n",
      "\u001b[36m(_dystack pid=883)\u001b[0m \t32.93s\t = Training   runtime\n",
      "\u001b[36m(_dystack pid=883)\u001b[0m \t1.95s\t = Validation runtime\n",
      "\u001b[36m(_dystack pid=883)\u001b[0m Fitting model: LightGBM_BAG_L2 ... Training model for up to 8.13s of the 8.10s of remaining time.\n",
      "\u001b[36m(_dystack pid=883)\u001b[0m \tFitting 8 child models (S1F1 - S1F8) | Fitting with ParallelLocalFoldFittingStrategy (2 workers, per: cpus=1, gpus=0, memory=0.68%)\n",
      "\u001b[36m(_dystack pid=883)\u001b[0m I0000 00:00:1748365984.894721     923 chttp2_transport.cc:1182] ipv4:169.255.255.2:33297: Got goaway [2] err=UNAVAILABLE:GOAWAY received; Error code: 2; Debug Text: Cancelling all calls {grpc_status:14, http2_error:2, created_time:\"2025-05-27T17:13:04.894717604+00:00\"}\n",
      "\u001b[36m(_dystack pid=883)\u001b[0m I0000 00:00:1748365984.895040     924 chttp2_transport.cc:1182] ipv4:169.255.255.2:44741: Got goaway [2] err=UNAVAILABLE:GOAWAY received; Error code: 2; Debug Text: Cancelling all calls {created_time:\"2025-05-27T17:13:04.895035554+00:00\", http2_error:2, grpc_status:14}\n",
      "\u001b[36m(_dystack pid=883)\u001b[0m \t-67.7201\t = Validation score   (-root_mean_squared_error)\n",
      "\u001b[36m(_dystack pid=883)\u001b[0m \t23.02s\t = Training   runtime\n",
      "\u001b[36m(_dystack pid=883)\u001b[0m \t0.21s\t = Validation runtime\n",
      "\u001b[36m(_dystack pid=883)\u001b[0m Fitting model: WeightedEnsemble_L3 ... Training model for up to 143.40s of the -18.51s of remaining time.\n",
      "\u001b[36m(_dystack pid=883)\u001b[0m \tEnsemble Weights: {'LightGBM_BAG_L2': 1.0}\n",
      "\u001b[36m(_dystack pid=883)\u001b[0m \t-67.7201\t = Validation score   (-root_mean_squared_error)\n",
      "\u001b[36m(_dystack pid=883)\u001b[0m \t0.04s\t = Training   runtime\n",
      "\u001b[36m(_dystack pid=883)\u001b[0m \t0.0s\t = Validation runtime\n",
      "\u001b[36m(_dystack pid=883)\u001b[0m AutoGluon training complete, total runtime = 162.07s ... Best model: WeightedEnsemble_L3 | Estimated inference throughput: 85.8 rows/s (1210 batch size)\n",
      "\u001b[36m(_dystack pid=883)\u001b[0m TabularPredictor saved. To load, use: predictor = TabularPredictor.load(\"/home/sagemaker-user/AutogluonModels/ag-20250527_171027/ds_sub_fit/sub_fit_ho\")\n",
      "\u001b[36m(_dystack pid=883)\u001b[0m Deleting DyStack predictor artifacts (clean_up_fits=True) ...\n",
      "Leaderboard on holdout data (DyStack):\n",
      "                   model  score_holdout   score_val              eval_metric  pred_time_test  pred_time_val    fit_time  pred_time_test_marginal  pred_time_val_marginal  fit_time_marginal  stack_level  can_infer  fit_order\n",
      "0        LightGBM_BAG_L2     -69.842341  -67.720101  root_mean_squared_error       12.973153      14.199147  107.379234                 0.151651                0.212001          23.023566            2       True          7\n",
      "1    WeightedEnsemble_L3     -69.842341  -67.720101  root_mean_squared_error       12.975003      14.199882  107.417781                 0.001851                0.000735           0.038547            3       True          8\n",
      "2      LightGBMXT_BAG_L2     -72.792720  -73.683056  root_mean_squared_error       14.836984      15.939473  117.289507                 2.015482                1.952326          32.933839            2       True          6\n",
      "3  KNeighborsDist_BAG_L1     -92.031272  -89.946854  root_mean_squared_error        0.069073       0.049811    0.017401                 0.069073                0.049811           0.017401            1       True          2\n",
      "4    WeightedEnsemble_L2     -92.031272  -89.946854  root_mean_squared_error        0.070988       0.050909    0.044600                 0.001915                0.001098           0.027198            2       True          5\n",
      "5  KNeighborsUnif_BAG_L1    -109.161488 -107.445008  root_mean_squared_error        0.073036       0.055634    0.023211                 0.073036                0.055634           0.023211            1       True          1\n",
      "6        LightGBM_BAG_L1    -130.706758 -131.849580  root_mean_squared_error        0.967921       1.061543   26.658256                 0.967921                1.061543          26.658256            1       True          4\n",
      "7      LightGBMXT_BAG_L1    -131.068281 -131.975832  root_mean_squared_error       11.711471      12.820158   57.656799                11.711471               12.820158          57.656799            1       True          3\n",
      "\t1\t = Optimal   num_stack_levels (Stacked Overfitting Occurred: False)\n",
      "\t186s\t = DyStack   runtime |\t414s\t = Remaining runtime\n",
      "Starting main fit with num_stack_levels=1.\n",
      "\tFor future fit calls on this dataset, you can skip DyStack to save time: `predictor.fit(..., dynamic_stacking=False, num_stack_levels=1)`\n",
      "/opt/conda/lib/python3.12/site-packages/autogluon/common/utils/utils.py:78: UserWarning: pkg_resources is deprecated as an API. See https://setuptools.pypa.io/en/latest/pkg_resources.html. The pkg_resources package is slated for removal as early as 2025-11-30. Refrain from using this package or pin to Setuptools<81.\n",
      "  import pkg_resources\n",
      "Beginning AutoGluon training ... Time limit = 414s\n",
      "AutoGluon will save models to \"/home/sagemaker-user/AutogluonModels/ag-20250527_171027\"\n",
      "Train Data Rows:    10886\n",
      "Train Data Columns: 9\n",
      "Label Column:       count\n",
      "Problem Type:       regression\n",
      "Preprocessing data ...\n",
      "Using Feature Generators to preprocess the data ...\n",
      "Fitting AutoMLPipelineFeatureGenerator...\n",
      "\tAvailable Memory:                    1546.96 MB\n",
      "\tTrain Data (Original)  Memory Usage: 0.75 MB (0.0% of available memory)\n",
      "\tInferring data type of each feature based on column values. Set feature_metadata_in to manually specify special dtypes of the features.\n",
      "\tStage 1 Generators:\n",
      "\t\tFitting AsTypeFeatureGenerator...\n",
      "\t\t\tNote: Converting 2 features to boolean dtype as they only contain 2 unique values.\n",
      "\tStage 2 Generators:\n",
      "\t\tFitting FillNaFeatureGenerator...\n",
      "\tStage 3 Generators:\n",
      "\t\tFitting IdentityFeatureGenerator...\n",
      "\t\tFitting DatetimeFeatureGenerator...\n",
      "\tStage 4 Generators:\n",
      "\t\tFitting DropUniqueFeatureGenerator...\n",
      "\tStage 5 Generators:\n",
      "\t\tFitting DropDuplicatesFeatureGenerator...\n",
      "\tTypes of features in original data (raw dtype, special dtypes):\n",
      "\t\t('datetime', []) : 1 | ['datetime']\n",
      "\t\t('float', [])    : 3 | ['temp', 'atemp', 'windspeed']\n",
      "\t\t('int', [])      : 5 | ['season', 'holiday', 'workingday', 'weather', 'humidity']\n",
      "\tTypes of features in processed data (raw dtype, special dtypes):\n",
      "\t\t('float', [])                : 3 | ['temp', 'atemp', 'windspeed']\n",
      "\t\t('int', [])                  : 3 | ['season', 'weather', 'humidity']\n",
      "\t\t('int', ['bool'])            : 2 | ['holiday', 'workingday']\n",
      "\t\t('int', ['datetime_as_int']) : 5 | ['datetime', 'datetime.year', 'datetime.month', 'datetime.day', 'datetime.dayofweek']\n",
      "\t0.1s = Fit runtime\n",
      "\t9 features in original data used to generate 13 features in processed data.\n",
      "\tTrain Data (Processed) Memory Usage: 0.93 MB (0.1% of available memory)\n",
      "Data preprocessing and feature engineering runtime = 0.16s ...\n",
      "AutoGluon will gauge predictive performance using evaluation metric: 'root_mean_squared_error'\n",
      "\tThis metric's sign has been flipped to adhere to being higher_is_better. The metric score can be multiplied by -1 to get the metric value.\n",
      "\tTo change this, specify the eval_metric parameter of Predictor()\n",
      "Large model count detected (112 configs) ... Only displaying the first 3 models of each family. To see all, set `verbosity=3`.\n",
      "User-specified model hyperparameters to be fit:\n",
      "{\n",
      "\t'NN_TORCH': [{}, {'activation': 'elu', 'dropout_prob': 0.10077639529843717, 'hidden_size': 108, 'learning_rate': 0.002735937344002146, 'num_layers': 4, 'use_batchnorm': True, 'weight_decay': 1.356433327634438e-12, 'ag_args': {'name_suffix': '_r79', 'priority': -2}}, {'activation': 'elu', 'dropout_prob': 0.11897478034205347, 'hidden_size': 213, 'learning_rate': 0.0010474382260641949, 'num_layers': 4, 'use_batchnorm': False, 'weight_decay': 5.594471067786272e-10, 'ag_args': {'name_suffix': '_r22', 'priority': -7}}],\n",
      "\t'GBM': [{'extra_trees': True, 'ag_args': {'name_suffix': 'XT'}}, {}, {'learning_rate': 0.03, 'num_leaves': 128, 'feature_fraction': 0.9, 'min_data_in_leaf': 3, 'ag_args': {'name_suffix': 'Large', 'priority': 0, 'hyperparameter_tune_kwargs': None}}],\n",
      "\t'CAT': [{}, {'depth': 6, 'grow_policy': 'SymmetricTree', 'l2_leaf_reg': 2.1542798306067823, 'learning_rate': 0.06864209415792857, 'max_ctr_complexity': 4, 'one_hot_max_size': 10, 'ag_args': {'name_suffix': '_r177', 'priority': -1}}, {'depth': 8, 'grow_policy': 'Depthwise', 'l2_leaf_reg': 2.7997999596449104, 'learning_rate': 0.031375015734637225, 'max_ctr_complexity': 2, 'one_hot_max_size': 3, 'ag_args': {'name_suffix': '_r9', 'priority': -5}}],\n",
      "\t'XGB': [{}, {'colsample_bytree': 0.6917311125174739, 'enable_categorical': False, 'learning_rate': 0.018063876087523967, 'max_depth': 10, 'min_child_weight': 0.6028633586934382, 'ag_args': {'name_suffix': '_r33', 'priority': -8}}, {'colsample_bytree': 0.6628423832084077, 'enable_categorical': False, 'learning_rate': 0.08775715546881824, 'max_depth': 5, 'min_child_weight': 0.6294123374222513, 'ag_args': {'name_suffix': '_r89', 'priority': -16}}],\n",
      "\t'FASTAI': [{}, {'bs': 256, 'emb_drop': 0.5411770367537934, 'epochs': 43, 'layers': [800, 400], 'lr': 0.01519848858318159, 'ps': 0.23782946566604385, 'ag_args': {'name_suffix': '_r191', 'priority': -4}}, {'bs': 2048, 'emb_drop': 0.05070411322605811, 'epochs': 29, 'layers': [200, 100], 'lr': 0.08974235041576624, 'ps': 0.10393466140748028, 'ag_args': {'name_suffix': '_r102', 'priority': -11}}],\n",
      "\t'RF': [{'criterion': 'gini', 'ag_args': {'name_suffix': 'Gini', 'problem_types': ['binary', 'multiclass']}}, {'criterion': 'entropy', 'ag_args': {'name_suffix': 'Entr', 'problem_types': ['binary', 'multiclass']}}, {'criterion': 'squared_error', 'ag_args': {'name_suffix': 'MSE', 'problem_types': ['regression', 'quantile']}}],\n",
      "\t'XT': [{'criterion': 'gini', 'ag_args': {'name_suffix': 'Gini', 'problem_types': ['binary', 'multiclass']}}, {'criterion': 'entropy', 'ag_args': {'name_suffix': 'Entr', 'problem_types': ['binary', 'multiclass']}}, {'criterion': 'squared_error', 'ag_args': {'name_suffix': 'MSE', 'problem_types': ['regression', 'quantile']}}],\n",
      "\t'KNN': [{'weights': 'uniform', 'ag_args': {'name_suffix': 'Unif'}}, {'weights': 'distance', 'ag_args': {'name_suffix': 'Dist'}}],\n",
      "}\n",
      "AutoGluon will fit 2 stack levels (L1 to L2) ...\n",
      "Fitting 108 L1 models, fit_strategy=\"sequential\" ...\n",
      "Fitting model: KNeighborsUnif_BAG_L1 ... Training model for up to 275.88s of the 413.91s of remaining time.\n",
      "\t-101.5462\t = Validation score   (-root_mean_squared_error)\n",
      "\t0.04s\t = Training   runtime\n",
      "\t0.05s\t = Validation runtime\n",
      "Fitting model: KNeighborsDist_BAG_L1 ... Training model for up to 272.09s of the 410.12s of remaining time.\n",
      "\t-84.1251\t = Validation score   (-root_mean_squared_error)\n",
      "\t0.03s\t = Training   runtime\n",
      "\t0.05s\t = Validation runtime\n",
      "Fitting model: LightGBMXT_BAG_L1 ... Training model for up to 271.97s of the 410.00s of remaining time.\n",
      "\tFitting 8 child models (S1F1 - S1F8) | Fitting with ParallelLocalFoldFittingStrategy (2 workers, per: cpus=1, gpus=0, memory=0.46%)\n",
      "\t-131.4609\t = Validation score   (-root_mean_squared_error)\n",
      "\t56.99s\t = Training   runtime\n",
      "\t13.39s\t = Validation runtime\n",
      "Fitting model: LightGBM_BAG_L1 ... Training model for up to 207.90s of the 345.93s of remaining time.\n",
      "\tFitting 8 child models (S1F1 - S1F8) | Fitting with ParallelLocalFoldFittingStrategy (2 workers, per: cpus=1, gpus=0, memory=0.61%)\n",
      "\t-131.0542\t = Validation score   (-root_mean_squared_error)\n",
      "\t29.18s\t = Training   runtime\n",
      "\t1.64s\t = Validation runtime\n",
      "Fitting model: RandomForestMSE_BAG_L1 ... Training model for up to 174.08s of the 312.11s of remaining time.\n",
      "\t-116.5484\t = Validation score   (-root_mean_squared_error)\n",
      "\t14.78s\t = Training   runtime\n",
      "\t0.67s\t = Validation runtime\n",
      "Fitting model: CatBoost_BAG_L1 ... Training model for up to 158.09s of the 296.12s of remaining time.\n",
      "\tFitting 8 child models (S1F1 - S1F8) | Fitting with ParallelLocalFoldFittingStrategy (2 workers, per: cpus=1, gpus=0, memory=0.64%)\n",
      "WARNING: All log messages before absl::InitializeLog() is called are written to STDERR\n",
      "I0000 00:00:1748366263.460917     872 chttp2_transport.cc:1182] ipv4:169.255.255.2:33651: Got goaway [2] err=UNAVAILABLE:GOAWAY received; Error code: 2; Debug Text: Cancelling all calls {created_time:\"2025-05-27T17:17:43.459858683+00:00\", http2_error:2, grpc_status:14}\n",
      "\t-130.7587\t = Validation score   (-root_mean_squared_error)\n",
      "\t134.0s\t = Training   runtime\n",
      "\t0.15s\t = Validation runtime\n",
      "Fitting model: ExtraTreesMSE_BAG_L1 ... Training model for up to 20.69s of the 158.72s of remaining time.\n",
      "\t-124.6007\t = Validation score   (-root_mean_squared_error)\n",
      "\t7.15s\t = Training   runtime\n",
      "\t0.67s\t = Validation runtime\n",
      "Fitting model: NeuralNetFastAI_BAG_L1 ... Training model for up to 12.28s of the 150.31s of remaining time.\n",
      "\tFitting 8 child models (S1F1 - S1F8) | Fitting with ParallelLocalFoldFittingStrategy (2 workers, per: cpus=1, gpus=0, memory=0.61%)\n",
      "\t-144.078\t = Validation score   (-root_mean_squared_error)\n",
      "\t39.04s\t = Training   runtime\n",
      "\t0.34s\t = Validation runtime\n",
      "Fitting model: WeightedEnsemble_L2 ... Training model for up to 360.00s of the 107.52s of remaining time.\n",
      "\tEnsemble Weights: {'KNeighborsDist_BAG_L1': 1.0}\n",
      "\t-84.1251\t = Validation score   (-root_mean_squared_error)\n",
      "\t0.03s\t = Training   runtime\n",
      "\t0.0s\t = Validation runtime\n",
      "Fitting 106 L2 models, fit_strategy=\"sequential\" ...\n",
      "Fitting model: LightGBMXT_BAG_L2 ... Training model for up to 107.47s of the 107.45s of remaining time.\n",
      "\tFitting 8 child models (S1F1 - S1F8) | Fitting with ParallelLocalFoldFittingStrategy (2 workers, per: cpus=1, gpus=0, memory=0.99%)\n",
      "\t-60.2848\t = Validation score   (-root_mean_squared_error)\n",
      "\t64.79s\t = Training   runtime\n",
      "\t7.1s\t = Validation runtime\n",
      "Fitting model: LightGBM_BAG_L2 ... Training model for up to 37.32s of the 37.29s of remaining time.\n",
      "\tFitting 8 child models (S1F1 - S1F8) | Fitting with ParallelLocalFoldFittingStrategy (2 workers, per: cpus=1, gpus=0, memory=0.74%)\n",
      "\t-54.952\t = Validation score   (-root_mean_squared_error)\n",
      "\t25.47s\t = Training   runtime\n",
      "\t0.37s\t = Validation runtime\n",
      "Fitting model: RandomForestMSE_BAG_L2 ... Training model for up to 8.00s of the 7.97s of remaining time.\n",
      "\t-53.4349\t = Validation score   (-root_mean_squared_error)\n",
      "\t44.85s\t = Training   runtime\n",
      "\t1.68s\t = Validation runtime\n",
      "Fitting model: WeightedEnsemble_L3 ... Training model for up to 360.00s of the -39.68s of remaining time.\n",
      "\tEnsemble Weights: {'RandomForestMSE_BAG_L2': 0.688, 'LightGBM_BAG_L2': 0.25, 'LightGBMXT_BAG_L2': 0.062}\n",
      "\t-53.0646\t = Validation score   (-root_mean_squared_error)\n",
      "\t0.09s\t = Training   runtime\n",
      "\t0.0s\t = Validation runtime\n",
      "AutoGluon training complete, total runtime = 453.88s ... Best model: WeightedEnsemble_L3 | Estimated inference throughput: 58.2 rows/s (1361 batch size)\n",
      "TabularPredictor saved. To load, use: predictor = TabularPredictor.load(\"/home/sagemaker-user/AutogluonModels/ag-20250527_171027\")\n"
     ]
    }
   ],
   "source": [
    "predictor = TabularPredictor(label=\"count\").fit(\n",
    "    train_data=train,\n",
    "    time_limit=600,\n",
    "    presets=\"best_quality\"\n",
    ")"
   ]
  },
  {
   "cell_type": "code",
   "execution_count": 21,
   "id": "3d30ec48-f7f6-481d-8729-16fb012f75d9",
   "metadata": {},
   "outputs": [
    {
     "name": "stdout",
     "output_type": "stream",
     "text": [
      "*** Summary of fit() ***\n",
      "Estimated performance of each model:\n",
      "                     model   score_val              eval_metric  pred_time_val    fit_time  pred_time_val_marginal  fit_time_marginal  stack_level  can_infer  fit_order\n",
      "0      WeightedEnsemble_L3  -53.064631  root_mean_squared_error      26.102581  416.398453                0.000810           0.085700            3       True         13\n",
      "1   RandomForestMSE_BAG_L2  -53.434873  root_mean_squared_error      18.634301  326.058326                1.682470          44.850183            2       True         12\n",
      "2          LightGBM_BAG_L2  -54.952029  root_mean_squared_error      17.319871  306.674777                0.368040          25.466634            2       True         11\n",
      "3        LightGBMXT_BAG_L2  -60.284799  root_mean_squared_error      24.051261  345.995935                7.099430          64.787792            2       True         10\n",
      "4    KNeighborsDist_BAG_L1  -84.125061  root_mean_squared_error       0.048974    0.032943                0.048974           0.032943            1       True          2\n",
      "5      WeightedEnsemble_L2  -84.125061  root_mean_squared_error       0.049565    0.067256                0.000591           0.034314            2       True          9\n",
      "6    KNeighborsUnif_BAG_L1 -101.546199  root_mean_squared_error       0.048879    0.037393                0.048879           0.037393            1       True          1\n",
      "7   RandomForestMSE_BAG_L1 -116.548359  root_mean_squared_error       0.671268   14.775820                0.671268          14.775820            1       True          5\n",
      "8     ExtraTreesMSE_BAG_L1 -124.600676  root_mean_squared_error       0.670521    7.146686                0.670521           7.146686            1       True          7\n",
      "9          CatBoost_BAG_L1 -130.758652  root_mean_squared_error       0.145643  134.001380                0.145643         134.001380            1       True          6\n",
      "10         LightGBM_BAG_L1 -131.054162  root_mean_squared_error       1.637821   29.183810                1.637821          29.183810            1       True          4\n",
      "11       LightGBMXT_BAG_L1 -131.460909  root_mean_squared_error      13.388149   56.990478               13.388149          56.990478            1       True          3\n",
      "12  NeuralNetFastAI_BAG_L1 -144.077972  root_mean_squared_error       0.340575   39.039634                0.340575          39.039634            1       True          8\n",
      "Number of models trained: 13\n",
      "Types of models trained:\n",
      "{'StackerEnsembleModel_RF', 'StackerEnsembleModel_LGB', 'StackerEnsembleModel_NNFastAiTabular', 'WeightedEnsembleModel', 'StackerEnsembleModel_CatBoost', 'StackerEnsembleModel_XT', 'StackerEnsembleModel_KNN'}\n",
      "Bagging used: True  (with 8 folds)\n",
      "Multi-layer stack-ensembling used: True  (with 3 levels)\n",
      "Feature Metadata (Processed):\n",
      "(raw dtype, special dtypes):\n",
      "('float', [])                : 3 | ['temp', 'atemp', 'windspeed']\n",
      "('int', [])                  : 3 | ['season', 'weather', 'humidity']\n",
      "('int', ['bool'])            : 2 | ['holiday', 'workingday']\n",
      "('int', ['datetime_as_int']) : 5 | ['datetime', 'datetime.year', 'datetime.month', 'datetime.day', 'datetime.dayofweek']\n",
      "*** End of fit() summary ***\n"
     ]
    },
    {
     "name": "stderr",
     "output_type": "stream",
     "text": [
      "/opt/conda/lib/python3.12/site-packages/autogluon/core/utils/plots.py:169: UserWarning: AutoGluon summary plots cannot be created because bokeh is not installed. To see plots, please do: \"pip install bokeh==2.0.1\"\n",
      "  warnings.warn('AutoGluon summary plots cannot be created because bokeh is not installed. To see plots, please do: \"pip install bokeh==2.0.1\"')\n"
     ]
    },
    {
     "data": {
      "text/plain": [
       "{'model_types': {'KNeighborsUnif_BAG_L1': 'StackerEnsembleModel_KNN',\n",
       "  'KNeighborsDist_BAG_L1': 'StackerEnsembleModel_KNN',\n",
       "  'LightGBMXT_BAG_L1': 'StackerEnsembleModel_LGB',\n",
       "  'LightGBM_BAG_L1': 'StackerEnsembleModel_LGB',\n",
       "  'RandomForestMSE_BAG_L1': 'StackerEnsembleModel_RF',\n",
       "  'CatBoost_BAG_L1': 'StackerEnsembleModel_CatBoost',\n",
       "  'ExtraTreesMSE_BAG_L1': 'StackerEnsembleModel_XT',\n",
       "  'NeuralNetFastAI_BAG_L1': 'StackerEnsembleModel_NNFastAiTabular',\n",
       "  'WeightedEnsemble_L2': 'WeightedEnsembleModel',\n",
       "  'LightGBMXT_BAG_L2': 'StackerEnsembleModel_LGB',\n",
       "  'LightGBM_BAG_L2': 'StackerEnsembleModel_LGB',\n",
       "  'RandomForestMSE_BAG_L2': 'StackerEnsembleModel_RF',\n",
       "  'WeightedEnsemble_L3': 'WeightedEnsembleModel'},\n",
       " 'model_performance': {'KNeighborsUnif_BAG_L1': -101.54619908446061,\n",
       "  'KNeighborsDist_BAG_L1': -84.12506123181602,\n",
       "  'LightGBMXT_BAG_L1': -131.46090891834504,\n",
       "  'LightGBM_BAG_L1': -131.054161598899,\n",
       "  'RandomForestMSE_BAG_L1': -116.54835939455667,\n",
       "  'CatBoost_BAG_L1': -130.7586524651168,\n",
       "  'ExtraTreesMSE_BAG_L1': -124.60067564699747,\n",
       "  'NeuralNetFastAI_BAG_L1': -144.07797172356558,\n",
       "  'WeightedEnsemble_L2': -84.12506123181602,\n",
       "  'LightGBMXT_BAG_L2': -60.28479909260413,\n",
       "  'LightGBM_BAG_L2': -54.9520292388268,\n",
       "  'RandomForestMSE_BAG_L2': -53.43487264202621,\n",
       "  'WeightedEnsemble_L3': -53.06463142153363},\n",
       " 'model_best': 'WeightedEnsemble_L3',\n",
       " 'model_paths': {'KNeighborsUnif_BAG_L1': ['KNeighborsUnif_BAG_L1'],\n",
       "  'KNeighborsDist_BAG_L1': ['KNeighborsDist_BAG_L1'],\n",
       "  'LightGBMXT_BAG_L1': ['LightGBMXT_BAG_L1'],\n",
       "  'LightGBM_BAG_L1': ['LightGBM_BAG_L1'],\n",
       "  'RandomForestMSE_BAG_L1': ['RandomForestMSE_BAG_L1'],\n",
       "  'CatBoost_BAG_L1': ['CatBoost_BAG_L1'],\n",
       "  'ExtraTreesMSE_BAG_L1': ['ExtraTreesMSE_BAG_L1'],\n",
       "  'NeuralNetFastAI_BAG_L1': ['NeuralNetFastAI_BAG_L1'],\n",
       "  'WeightedEnsemble_L2': ['WeightedEnsemble_L2'],\n",
       "  'LightGBMXT_BAG_L2': ['LightGBMXT_BAG_L2'],\n",
       "  'LightGBM_BAG_L2': ['LightGBM_BAG_L2'],\n",
       "  'RandomForestMSE_BAG_L2': ['RandomForestMSE_BAG_L2'],\n",
       "  'WeightedEnsemble_L3': ['WeightedEnsemble_L3']},\n",
       " 'model_fit_times': {'KNeighborsUnif_BAG_L1': 0.037392616271972656,\n",
       "  'KNeighborsDist_BAG_L1': 0.03294253349304199,\n",
       "  'LightGBMXT_BAG_L1': 56.99047803878784,\n",
       "  'LightGBM_BAG_L1': 29.183809995651245,\n",
       "  'RandomForestMSE_BAG_L1': 14.775819540023804,\n",
       "  'CatBoost_BAG_L1': 134.00137972831726,\n",
       "  'ExtraTreesMSE_BAG_L1': 7.146685838699341,\n",
       "  'NeuralNetFastAI_BAG_L1': 39.039633989334106,\n",
       "  'WeightedEnsemble_L2': 0.03431391716003418,\n",
       "  'LightGBMXT_BAG_L2': 64.78779244422913,\n",
       "  'LightGBM_BAG_L2': 25.466634273529053,\n",
       "  'RandomForestMSE_BAG_L2': 44.85018348693848,\n",
       "  'WeightedEnsemble_L3': 0.08570027351379395},\n",
       " 'model_pred_times': {'KNeighborsUnif_BAG_L1': 0.048879384994506836,\n",
       "  'KNeighborsDist_BAG_L1': 0.048974037170410156,\n",
       "  'LightGBMXT_BAG_L1': 13.38814902305603,\n",
       "  'LightGBM_BAG_L1': 1.6378211975097656,\n",
       "  'RandomForestMSE_BAG_L1': 0.6712675094604492,\n",
       "  'CatBoost_BAG_L1': 0.14564299583435059,\n",
       "  'ExtraTreesMSE_BAG_L1': 0.6705214977264404,\n",
       "  'NeuralNetFastAI_BAG_L1': 0.3405754566192627,\n",
       "  'WeightedEnsemble_L2': 0.0005908012390136719,\n",
       "  'LightGBMXT_BAG_L2': 7.099429607391357,\n",
       "  'LightGBM_BAG_L2': 0.3680403232574463,\n",
       "  'RandomForestMSE_BAG_L2': 1.6824700832366943,\n",
       "  'WeightedEnsemble_L3': 0.0008099079132080078},\n",
       " 'num_bag_folds': 8,\n",
       " 'max_stack_level': 3,\n",
       " 'model_hyperparams': {'KNeighborsUnif_BAG_L1': {'use_orig_features': True,\n",
       "   'valid_stacker': True,\n",
       "   'max_base_models': 0,\n",
       "   'max_base_models_per_type': 'auto',\n",
       "   'save_bag_folds': True,\n",
       "   'use_child_oof': True},\n",
       "  'KNeighborsDist_BAG_L1': {'use_orig_features': True,\n",
       "   'valid_stacker': True,\n",
       "   'max_base_models': 0,\n",
       "   'max_base_models_per_type': 'auto',\n",
       "   'save_bag_folds': True,\n",
       "   'use_child_oof': True},\n",
       "  'LightGBMXT_BAG_L1': {'use_orig_features': True,\n",
       "   'valid_stacker': True,\n",
       "   'max_base_models': 0,\n",
       "   'max_base_models_per_type': 'auto',\n",
       "   'save_bag_folds': True},\n",
       "  'LightGBM_BAG_L1': {'use_orig_features': True,\n",
       "   'valid_stacker': True,\n",
       "   'max_base_models': 0,\n",
       "   'max_base_models_per_type': 'auto',\n",
       "   'save_bag_folds': True},\n",
       "  'RandomForestMSE_BAG_L1': {'use_orig_features': True,\n",
       "   'valid_stacker': True,\n",
       "   'max_base_models': 0,\n",
       "   'max_base_models_per_type': 'auto',\n",
       "   'save_bag_folds': True,\n",
       "   'use_child_oof': True},\n",
       "  'CatBoost_BAG_L1': {'use_orig_features': True,\n",
       "   'valid_stacker': True,\n",
       "   'max_base_models': 0,\n",
       "   'max_base_models_per_type': 'auto',\n",
       "   'save_bag_folds': True},\n",
       "  'ExtraTreesMSE_BAG_L1': {'use_orig_features': True,\n",
       "   'valid_stacker': True,\n",
       "   'max_base_models': 0,\n",
       "   'max_base_models_per_type': 'auto',\n",
       "   'save_bag_folds': True,\n",
       "   'use_child_oof': True},\n",
       "  'NeuralNetFastAI_BAG_L1': {'use_orig_features': True,\n",
       "   'valid_stacker': True,\n",
       "   'max_base_models': 0,\n",
       "   'max_base_models_per_type': 'auto',\n",
       "   'save_bag_folds': True},\n",
       "  'WeightedEnsemble_L2': {'use_orig_features': False,\n",
       "   'valid_stacker': True,\n",
       "   'max_base_models': 0,\n",
       "   'max_base_models_per_type': 'auto',\n",
       "   'save_bag_folds': True},\n",
       "  'LightGBMXT_BAG_L2': {'use_orig_features': True,\n",
       "   'valid_stacker': True,\n",
       "   'max_base_models': 0,\n",
       "   'max_base_models_per_type': 'auto',\n",
       "   'save_bag_folds': True},\n",
       "  'LightGBM_BAG_L2': {'use_orig_features': True,\n",
       "   'valid_stacker': True,\n",
       "   'max_base_models': 0,\n",
       "   'max_base_models_per_type': 'auto',\n",
       "   'save_bag_folds': True},\n",
       "  'RandomForestMSE_BAG_L2': {'use_orig_features': True,\n",
       "   'valid_stacker': True,\n",
       "   'max_base_models': 0,\n",
       "   'max_base_models_per_type': 'auto',\n",
       "   'save_bag_folds': True,\n",
       "   'use_child_oof': True},\n",
       "  'WeightedEnsemble_L3': {'use_orig_features': False,\n",
       "   'valid_stacker': True,\n",
       "   'max_base_models': 0,\n",
       "   'max_base_models_per_type': 'auto',\n",
       "   'save_bag_folds': True}},\n",
       " 'leaderboard':                      model   score_val  ... can_infer  fit_order\n",
       " 0      WeightedEnsemble_L3  -53.064631  ...      True         13\n",
       " 1   RandomForestMSE_BAG_L2  -53.434873  ...      True         12\n",
       " 2          LightGBM_BAG_L2  -54.952029  ...      True         11\n",
       " 3        LightGBMXT_BAG_L2  -60.284799  ...      True         10\n",
       " 4    KNeighborsDist_BAG_L1  -84.125061  ...      True          2\n",
       " 5      WeightedEnsemble_L2  -84.125061  ...      True          9\n",
       " 6    KNeighborsUnif_BAG_L1 -101.546199  ...      True          1\n",
       " 7   RandomForestMSE_BAG_L1 -116.548359  ...      True          5\n",
       " 8     ExtraTreesMSE_BAG_L1 -124.600676  ...      True          7\n",
       " 9          CatBoost_BAG_L1 -130.758652  ...      True          6\n",
       " 10         LightGBM_BAG_L1 -131.054162  ...      True          4\n",
       " 11       LightGBMXT_BAG_L1 -131.460909  ...      True          3\n",
       " 12  NeuralNetFastAI_BAG_L1 -144.077972  ...      True          8\n",
       " \n",
       " [13 rows x 10 columns]}"
      ]
     },
     "execution_count": 21,
     "metadata": {},
     "output_type": "execute_result"
    }
   ],
   "source": [
    "predictor.fit_summary()"
   ]
  },
  {
   "cell_type": "code",
   "execution_count": 22,
   "id": "d55d4875-b470-4424-b13a-84bf14f7a56a",
   "metadata": {},
   "outputs": [
    {
     "name": "stderr",
     "output_type": "stream",
     "text": [
      "<frozen importlib._bootstrap>:488: RuntimeWarning: numpy.ufunc size changed, may indicate binary incompatibility. Expected 216 from C header, got 232 from PyObject\n",
      "/opt/conda/lib/python3.12/site-packages/fastai/learner.py:455: UserWarning: load_learner` uses Python's insecure pickle module, which can execute malicious arbitrary code when loading. Only load files you trust.\n",
      "If you only need to load model weights and optimizer state, use the safe `Learner.load` instead.\n",
      "  warn(\"load_learner` uses Python's insecure pickle module, which can execute malicious arbitrary code when loading. Only load files you trust.\\nIf you only need to load model weights and optimizer state, use the safe `Learner.load` instead.\")\n",
      "/opt/conda/lib/python3.12/site-packages/fastai/learner.py:455: UserWarning: load_learner` uses Python's insecure pickle module, which can execute malicious arbitrary code when loading. Only load files you trust.\n",
      "If you only need to load model weights and optimizer state, use the safe `Learner.load` instead.\n",
      "  warn(\"load_learner` uses Python's insecure pickle module, which can execute malicious arbitrary code when loading. Only load files you trust.\\nIf you only need to load model weights and optimizer state, use the safe `Learner.load` instead.\")\n",
      "/opt/conda/lib/python3.12/site-packages/fastai/learner.py:455: UserWarning: load_learner` uses Python's insecure pickle module, which can execute malicious arbitrary code when loading. Only load files you trust.\n",
      "If you only need to load model weights and optimizer state, use the safe `Learner.load` instead.\n",
      "  warn(\"load_learner` uses Python's insecure pickle module, which can execute malicious arbitrary code when loading. Only load files you trust.\\nIf you only need to load model weights and optimizer state, use the safe `Learner.load` instead.\")\n",
      "/opt/conda/lib/python3.12/site-packages/fastai/learner.py:455: UserWarning: load_learner` uses Python's insecure pickle module, which can execute malicious arbitrary code when loading. Only load files you trust.\n",
      "If you only need to load model weights and optimizer state, use the safe `Learner.load` instead.\n",
      "  warn(\"load_learner` uses Python's insecure pickle module, which can execute malicious arbitrary code when loading. Only load files you trust.\\nIf you only need to load model weights and optimizer state, use the safe `Learner.load` instead.\")\n",
      "/opt/conda/lib/python3.12/site-packages/fastai/learner.py:455: UserWarning: load_learner` uses Python's insecure pickle module, which can execute malicious arbitrary code when loading. Only load files you trust.\n",
      "If you only need to load model weights and optimizer state, use the safe `Learner.load` instead.\n",
      "  warn(\"load_learner` uses Python's insecure pickle module, which can execute malicious arbitrary code when loading. Only load files you trust.\\nIf you only need to load model weights and optimizer state, use the safe `Learner.load` instead.\")\n",
      "/opt/conda/lib/python3.12/site-packages/fastai/learner.py:455: UserWarning: load_learner` uses Python's insecure pickle module, which can execute malicious arbitrary code when loading. Only load files you trust.\n",
      "If you only need to load model weights and optimizer state, use the safe `Learner.load` instead.\n",
      "  warn(\"load_learner` uses Python's insecure pickle module, which can execute malicious arbitrary code when loading. Only load files you trust.\\nIf you only need to load model weights and optimizer state, use the safe `Learner.load` instead.\")\n",
      "/opt/conda/lib/python3.12/site-packages/fastai/learner.py:455: UserWarning: load_learner` uses Python's insecure pickle module, which can execute malicious arbitrary code when loading. Only load files you trust.\n",
      "If you only need to load model weights and optimizer state, use the safe `Learner.load` instead.\n",
      "  warn(\"load_learner` uses Python's insecure pickle module, which can execute malicious arbitrary code when loading. Only load files you trust.\\nIf you only need to load model weights and optimizer state, use the safe `Learner.load` instead.\")\n",
      "/opt/conda/lib/python3.12/site-packages/fastai/learner.py:455: UserWarning: load_learner` uses Python's insecure pickle module, which can execute malicious arbitrary code when loading. Only load files you trust.\n",
      "If you only need to load model weights and optimizer state, use the safe `Learner.load` instead.\n",
      "  warn(\"load_learner` uses Python's insecure pickle module, which can execute malicious arbitrary code when loading. Only load files you trust.\\nIf you only need to load model weights and optimizer state, use the safe `Learner.load` instead.\")\n"
     ]
    }
   ],
   "source": [
    "performance = predictor.evaluate(train)"
   ]
  },
  {
   "cell_type": "code",
   "execution_count": 23,
   "id": "8964a883-d218-4e9e-b45f-d010911ab42d",
   "metadata": {},
   "outputs": [
    {
     "data": {
      "text/plain": [
       "{'root_mean_squared_error': -77.560242558177,\n",
       " 'mean_squared_error': -6015.591225683249,\n",
       " 'mean_absolute_error': -52.62763457119345,\n",
       " 'r2': 0.8166553974151611,\n",
       " 'pearsonr': 0.9391998135107124,\n",
       " 'median_absolute_error': -30.72541642189026}"
      ]
     },
     "execution_count": 23,
     "metadata": {},
     "output_type": "execute_result"
    }
   ],
   "source": [
    "performance"
   ]
  },
  {
   "cell_type": "markdown",
   "id": "33436f76-1709-4d30-8d9a-cec5f904d7a1",
   "metadata": {},
   "source": [
    "### Create predictions from test data"
   ]
  },
  {
   "cell_type": "code",
   "execution_count": 24,
   "id": "28c79e22-d364-4a1c-9167-154f6add4e47",
   "metadata": {},
   "outputs": [
    {
     "name": "stderr",
     "output_type": "stream",
     "text": [
      "/opt/conda/lib/python3.12/site-packages/fastai/learner.py:455: UserWarning: load_learner` uses Python's insecure pickle module, which can execute malicious arbitrary code when loading. Only load files you trust.\n",
      "If you only need to load model weights and optimizer state, use the safe `Learner.load` instead.\n",
      "  warn(\"load_learner` uses Python's insecure pickle module, which can execute malicious arbitrary code when loading. Only load files you trust.\\nIf you only need to load model weights and optimizer state, use the safe `Learner.load` instead.\")\n",
      "/opt/conda/lib/python3.12/site-packages/fastai/learner.py:455: UserWarning: load_learner` uses Python's insecure pickle module, which can execute malicious arbitrary code when loading. Only load files you trust.\n",
      "If you only need to load model weights and optimizer state, use the safe `Learner.load` instead.\n",
      "  warn(\"load_learner` uses Python's insecure pickle module, which can execute malicious arbitrary code when loading. Only load files you trust.\\nIf you only need to load model weights and optimizer state, use the safe `Learner.load` instead.\")\n",
      "/opt/conda/lib/python3.12/site-packages/fastai/learner.py:455: UserWarning: load_learner` uses Python's insecure pickle module, which can execute malicious arbitrary code when loading. Only load files you trust.\n",
      "If you only need to load model weights and optimizer state, use the safe `Learner.load` instead.\n",
      "  warn(\"load_learner` uses Python's insecure pickle module, which can execute malicious arbitrary code when loading. Only load files you trust.\\nIf you only need to load model weights and optimizer state, use the safe `Learner.load` instead.\")\n",
      "/opt/conda/lib/python3.12/site-packages/fastai/learner.py:455: UserWarning: load_learner` uses Python's insecure pickle module, which can execute malicious arbitrary code when loading. Only load files you trust.\n",
      "If you only need to load model weights and optimizer state, use the safe `Learner.load` instead.\n",
      "  warn(\"load_learner` uses Python's insecure pickle module, which can execute malicious arbitrary code when loading. Only load files you trust.\\nIf you only need to load model weights and optimizer state, use the safe `Learner.load` instead.\")\n",
      "/opt/conda/lib/python3.12/site-packages/fastai/learner.py:455: UserWarning: load_learner` uses Python's insecure pickle module, which can execute malicious arbitrary code when loading. Only load files you trust.\n",
      "If you only need to load model weights and optimizer state, use the safe `Learner.load` instead.\n",
      "  warn(\"load_learner` uses Python's insecure pickle module, which can execute malicious arbitrary code when loading. Only load files you trust.\\nIf you only need to load model weights and optimizer state, use the safe `Learner.load` instead.\")\n",
      "/opt/conda/lib/python3.12/site-packages/fastai/learner.py:455: UserWarning: load_learner` uses Python's insecure pickle module, which can execute malicious arbitrary code when loading. Only load files you trust.\n",
      "If you only need to load model weights and optimizer state, use the safe `Learner.load` instead.\n",
      "  warn(\"load_learner` uses Python's insecure pickle module, which can execute malicious arbitrary code when loading. Only load files you trust.\\nIf you only need to load model weights and optimizer state, use the safe `Learner.load` instead.\")\n",
      "/opt/conda/lib/python3.12/site-packages/fastai/learner.py:455: UserWarning: load_learner` uses Python's insecure pickle module, which can execute malicious arbitrary code when loading. Only load files you trust.\n",
      "If you only need to load model weights and optimizer state, use the safe `Learner.load` instead.\n",
      "  warn(\"load_learner` uses Python's insecure pickle module, which can execute malicious arbitrary code when loading. Only load files you trust.\\nIf you only need to load model weights and optimizer state, use the safe `Learner.load` instead.\")\n",
      "/opt/conda/lib/python3.12/site-packages/fastai/learner.py:455: UserWarning: load_learner` uses Python's insecure pickle module, which can execute malicious arbitrary code when loading. Only load files you trust.\n",
      "If you only need to load model weights and optimizer state, use the safe `Learner.load` instead.\n",
      "  warn(\"load_learner` uses Python's insecure pickle module, which can execute malicious arbitrary code when loading. Only load files you trust.\\nIf you only need to load model weights and optimizer state, use the safe `Learner.load` instead.\")\n"
     ]
    }
   ],
   "source": [
    "predictions = predictor.predict(test)"
   ]
  },
  {
   "cell_type": "code",
   "execution_count": 25,
   "id": "bc4eb96b-7dfb-4e98-a67c-8242959adfba",
   "metadata": {},
   "outputs": [
    {
     "data": {
      "text/plain": [
       "<Axes: xlabel='model'>"
      ]
     },
     "execution_count": 25,
     "metadata": {},
     "output_type": "execute_result"
    },
    {
     "data": {
      "image/png": "[encoded data removed]",
      "text/plain": [
       "<Figure size 640x480 with 1 Axes>"
      ]
     },
     "metadata": {},
     "output_type": "display_data"
    }
   ],
   "source": [
    "predictor.leaderboard(silent=True).plot(kind=\"bar\", x=\"model\", y=\"score_val\")"
   ]
  },
  {
   "cell_type": "code",
   "execution_count": 26,
   "id": "d310f4e1-85cd-4bbe-b71a-fc1bb17d7fb6",
   "metadata": {},
   "outputs": [
    {
     "data": {
      "text/plain": [
       "count    6493.000000\n",
       "mean      100.813683\n",
       "std        89.977707\n",
       "min         2.824473\n",
       "25%        20.233366\n",
       "50%        63.861332\n",
       "75%       168.513992\n",
       "max       368.499695\n",
       "Name: count, dtype: float64"
      ]
     },
     "execution_count": 26,
     "metadata": {},
     "output_type": "execute_result"
    }
   ],
   "source": [
    "predictions.describe()"
   ]
  },
  {
   "cell_type": "code",
   "execution_count": 27,
   "id": "41dad00e-a9ae-42ea-8474-251bc49464b9",
   "metadata": {},
   "outputs": [],
   "source": [
    "predictions = [x if x > 0 else 0 for x in predictions]"
   ]
  },
  {
   "cell_type": "code",
   "execution_count": 28,
   "id": "3892059d-a5f9-4dbd-8719-d86429eddc9e",
   "metadata": {},
   "outputs": [],
   "source": [
    "submission[\"count\"] = predictions"
   ]
  },
  {
   "cell_type": "code",
   "execution_count": 29,
   "id": "c2992abb-8bfe-4d5e-a786-2408c059f452",
   "metadata": {},
   "outputs": [],
   "source": [
    "submission.to_csv(\"submission.csv\", index=False)"
   ]
  },
  {
   "cell_type": "code",
   "execution_count": 30,
   "id": "07a26824-0dd7-4836-ad26-972e93145d17",
   "metadata": {},
   "outputs": [
    {
     "name": "stdout",
     "output_type": "stream",
     "text": [
      "100%|█████████████████████████████████████████| 243k/243k [00:00<00:00, 875kB/s]\n",
      "Successfully submitted to Bike Sharing Demand"
     ]
    }
   ],
   "source": [
    "!kaggle competitions submit -c bike-sharing-demand -f submission.csv -m \"first raw submission\""
   ]
  },
  {
   "cell_type": "markdown",
   "id": "c38845b4-e3b3-40c6-a2f7-029f58dc139f",
   "metadata": {},
   "source": [
    "## Step 4: Exploratory Data Analysis and Creating an additional feature"
   ]
  },
  {
   "cell_type": "code",
   "execution_count": 31,
   "id": "54dd2b29-f4eb-4d82-b897-1770d1b9fe71",
   "metadata": {},
   "outputs": [],
   "source": [
    "import matplotlib.pyplot as plt"
   ]
  },
  {
   "cell_type": "code",
   "execution_count": 32,
   "id": "b7d986f8-642e-46c5-9a75-404c3761cb5a",
   "metadata": {},
   "outputs": [
    {
     "data": {
      "text/plain": [
       "Index(['datetime', 'season', 'holiday', 'workingday', 'weather', 'temp',\n",
       "       'atemp', 'humidity', 'windspeed', 'count'],\n",
       "      dtype='object')"
      ]
     },
     "execution_count": 32,
     "metadata": {},
     "output_type": "execute_result"
    }
   ],
   "source": [
    "train.columns"
   ]
  },
  {
   "cell_type": "code",
   "execution_count": 38,
   "id": "b222eba8-f614-48af-88ad-937a91721de1",
   "metadata": {},
   "outputs": [
    {
     "data": {
      "text/plain": [
       "<Axes: >"
      ]
     },
     "execution_count": 38,
     "metadata": {},
     "output_type": "execute_result"
    },
    {
     "data": {
      "image/png": "[encoded data removed]",
      "text/plain": [
       "<Figure size 640x480 with 1 Axes>"
      ]
     },
     "metadata": {},
     "output_type": "display_data"
    }
   ],
   "source": [
    "train.windspeed.hist()"
   ]
  },
  {
   "cell_type": "code",
   "execution_count": 37,
   "id": "4de5e691-3f38-4b0f-ab01-73fd39f69295",
   "metadata": {},
   "outputs": [
    {
     "data": {
      "text/plain": [
       "<Axes: >"
      ]
     },
     "execution_count": 37,
     "metadata": {},
     "output_type": "execute_result"
    },
    {
     "data": {
      "image/png": "[encoded data removed]",
      "text/plain": [
       "<Figure size 640x480 with 1 Axes>"
      ]
     },
     "metadata": {},
     "output_type": "display_data"
    }
   ],
   "source": [
    "train.atemp.hist()"
   ]
  },
  {
   "cell_type": "code",
   "execution_count": 36,
   "id": "747506a2-173b-46ce-9002-fe7f61b08c98",
   "metadata": {},
   "outputs": [
    {
     "data": {
      "text/plain": [
       "<Axes: >"
      ]
     },
     "execution_count": 36,
     "metadata": {},
     "output_type": "execute_result"
    },
    {
     "data": {
      "image/png": "[encoded data removed]",
      "text/plain": [
       "<Figure size 640x480 with 1 Axes>"
      ]
     },
     "metadata": {},
     "output_type": "display_data"
    }
   ],
   "source": [
    "train.humidity.hist()"
   ]
  },
  {
   "cell_type": "code",
   "execution_count": 35,
   "id": "e1106241-06e3-400a-ad7b-90a3ca46948b",
   "metadata": {},
   "outputs": [
    {
     "data": {
      "text/plain": [
       "<Axes: >"
      ]
     },
     "execution_count": 35,
     "metadata": {},
     "output_type": "execute_result"
    },
    {
     "data": {
      "image/png": "[encoded data removed]",
      "text/plain": [
       "<Figure size 640x480 with 1 Axes>"
      ]
     },
     "metadata": {},
     "output_type": "display_data"
    }
   ],
   "source": [
    "train.temp.hist()"
   ]
  },
  {
   "cell_type": "code",
   "execution_count": 34,
   "id": "e7c4dd75-f2c8-49bf-a20a-edf367854f49",
   "metadata": {},
   "outputs": [
    {
     "data": {
      "text/plain": [
       "<Axes: >"
      ]
     },
     "execution_count": 34,
     "metadata": {},
     "output_type": "execute_result"
    },
    {
     "data": {
      "image/png": "[encoded data removed]",
      "text/plain": [
       "<Figure size 640x480 with 1 Axes>"
      ]
     },
     "metadata": {},
     "output_type": "display_data"
    }
   ],
   "source": [
    "train.holiday.hist()"
   ]
  },
  {
   "cell_type": "code",
   "execution_count": 33,
   "id": "1901340c-5529-4adf-a18c-9d0b1abb48c5",
   "metadata": {},
   "outputs": [
    {
     "data": {
      "text/plain": [
       "<Axes: >"
      ]
     },
     "execution_count": 33,
     "metadata": {},
     "output_type": "execute_result"
    },
    {
     "data": {
      "image/png": "[encoded data removed]",
      "text/plain": [
       "<Figure size 640x480 with 1 Axes>"
      ]
     },
     "metadata": {},
     "output_type": "display_data"
    }
   ],
   "source": [
    "train.season.hist()"
   ]
  },
  {
   "cell_type": "code",
   "execution_count": 39,
   "id": "6196abc8-afc7-4c51-afbc-c18e5206ddce",
   "metadata": {},
   "outputs": [],
   "source": [
    "train['year'] = train['datetime'].dt.year\n",
    "train['month'] = train['datetime'].dt.month\n",
    "train['day'] = train['datetime'].dt.day\n",
    "train['hour'] = train['datetime'].dt.hour"
   ]
  },
  {
   "cell_type": "code",
   "execution_count": 40,
   "id": "60de9c48-4bd8-4e75-acde-b2cfe5d54fd7",
   "metadata": {},
   "outputs": [],
   "source": [
    "test['year'] = test['datetime'].dt.year\n",
    "test['month'] = test['datetime'].dt.month\n",
    "test['day'] = test['datetime'].dt.day\n",
    "test['hour'] = test['datetime'].dt.hour"
   ]
  },
  {
   "cell_type": "code",
   "execution_count": 41,
   "id": "b8b610a2-df5e-4dcb-a69e-e502b967f5dd",
   "metadata": {},
   "outputs": [],
   "source": [
    "train[\"season\"] = train[\"season\"].astype('category')\n",
    "train[\"weather\"] = train[\"weather\"].astype('category')\n",
    "train[\"season\"] = train[\"season\"].astype('category')\n",
    "train[\"weather\"] = train[\"weather\"].astype('category')"
   ]
  },
  {
   "cell_type": "code",
   "execution_count": 42,
   "id": "5a521ef5-5b3d-478c-b28b-2603fe9d75b1",
   "metadata": {},
   "outputs": [],
   "source": [
    "test[\"season\"] = test[\"season\"].astype('category')\n",
    "test[\"weather\"] = test[\"weather\"].astype('category')\n",
    "test[\"season\"] = test[\"season\"].astype('category')\n",
    "test[\"weather\"] = test[\"weather\"].astype('category')"
   ]
  },
  {
   "cell_type": "code",
   "execution_count": 43,
   "id": "fef57dc0-bb99-457d-9d42-896ac2ca03c8",
   "metadata": {},
   "outputs": [
    {
     "data": {
      "text/html": [
       "<div>\n",
       "<style scoped>\n",
       "    .dataframe tbody tr th:only-of-type {\n",
       "        vertical-align: middle;\n",
       "    }\n",
       "\n",
       "    .dataframe tbody tr th {\n",
       "        vertical-align: top;\n",
       "    }\n",
       "\n",
       "    .dataframe thead th {\n",
       "        text-align: right;\n",
       "    }\n",
       "</style>\n",
       "<table border=\"1\" class=\"dataframe\">\n",
       "  <thead>\n",
       "    <tr style=\"text-align: right;\">\n",
       "      <th></th>\n",
       "      <th>datetime</th>\n",
       "      <th>season</th>\n",
       "      <th>holiday</th>\n",
       "      <th>workingday</th>\n",
       "      <th>weather</th>\n",
       "      <th>temp</th>\n",
       "      <th>atemp</th>\n",
       "      <th>humidity</th>\n",
       "      <th>windspeed</th>\n",
       "      <th>count</th>\n",
       "      <th>year</th>\n",
       "      <th>month</th>\n",
       "      <th>day</th>\n",
       "      <th>hour</th>\n",
       "    </tr>\n",
       "  </thead>\n",
       "  <tbody>\n",
       "    <tr>\n",
       "      <th>0</th>\n",
       "      <td>2011-01-01 00:00:00</td>\n",
       "      <td>1</td>\n",
       "      <td>0</td>\n",
       "      <td>0</td>\n",
       "      <td>1</td>\n",
       "      <td>9.84</td>\n",
       "      <td>14.395</td>\n",
       "      <td>81</td>\n",
       "      <td>0.0</td>\n",
       "      <td>16</td>\n",
       "      <td>2011</td>\n",
       "      <td>1</td>\n",
       "      <td>1</td>\n",
       "      <td>0</td>\n",
       "    </tr>\n",
       "    <tr>\n",
       "      <th>1</th>\n",
       "      <td>2011-01-01 01:00:00</td>\n",
       "      <td>1</td>\n",
       "      <td>0</td>\n",
       "      <td>0</td>\n",
       "      <td>1</td>\n",
       "      <td>9.02</td>\n",
       "      <td>13.635</td>\n",
       "      <td>80</td>\n",
       "      <td>0.0</td>\n",
       "      <td>40</td>\n",
       "      <td>2011</td>\n",
       "      <td>1</td>\n",
       "      <td>1</td>\n",
       "      <td>1</td>\n",
       "    </tr>\n",
       "    <tr>\n",
       "      <th>2</th>\n",
       "      <td>2011-01-01 02:00:00</td>\n",
       "      <td>1</td>\n",
       "      <td>0</td>\n",
       "      <td>0</td>\n",
       "      <td>1</td>\n",
       "      <td>9.02</td>\n",
       "      <td>13.635</td>\n",
       "      <td>80</td>\n",
       "      <td>0.0</td>\n",
       "      <td>32</td>\n",
       "      <td>2011</td>\n",
       "      <td>1</td>\n",
       "      <td>1</td>\n",
       "      <td>2</td>\n",
       "    </tr>\n",
       "    <tr>\n",
       "      <th>3</th>\n",
       "      <td>2011-01-01 03:00:00</td>\n",
       "      <td>1</td>\n",
       "      <td>0</td>\n",
       "      <td>0</td>\n",
       "      <td>1</td>\n",
       "      <td>9.84</td>\n",
       "      <td>14.395</td>\n",
       "      <td>75</td>\n",
       "      <td>0.0</td>\n",
       "      <td>13</td>\n",
       "      <td>2011</td>\n",
       "      <td>1</td>\n",
       "      <td>1</td>\n",
       "      <td>3</td>\n",
       "    </tr>\n",
       "    <tr>\n",
       "      <th>4</th>\n",
       "      <td>2011-01-01 04:00:00</td>\n",
       "      <td>1</td>\n",
       "      <td>0</td>\n",
       "      <td>0</td>\n",
       "      <td>1</td>\n",
       "      <td>9.84</td>\n",
       "      <td>14.395</td>\n",
       "      <td>75</td>\n",
       "      <td>0.0</td>\n",
       "      <td>1</td>\n",
       "      <td>2011</td>\n",
       "      <td>1</td>\n",
       "      <td>1</td>\n",
       "      <td>4</td>\n",
       "    </tr>\n",
       "  </tbody>\n",
       "</table>\n",
       "</div>"
      ],
      "text/plain": [
       "             datetime season  holiday  workingday  ...  year  month  day  hour\n",
       "0 2011-01-01 00:00:00      1        0           0  ...  2011      1    1     0\n",
       "1 2011-01-01 01:00:00      1        0           0  ...  2011      1    1     1\n",
       "2 2011-01-01 02:00:00      1        0           0  ...  2011      1    1     2\n",
       "3 2011-01-01 03:00:00      1        0           0  ...  2011      1    1     3\n",
       "4 2011-01-01 04:00:00      1        0           0  ...  2011      1    1     4\n",
       "\n",
       "[5 rows x 14 columns]"
      ]
     },
     "execution_count": 43,
     "metadata": {},
     "output_type": "execute_result"
    }
   ],
   "source": [
    "train.head()"
   ]
  },
  {
   "cell_type": "markdown",
   "id": "8ebb13af-041c-4b82-8208-b63fe9097194",
   "metadata": {},
   "source": [
    "## Rerun the model with some additional data"
   ]
  },
  {
   "cell_type": "code",
   "execution_count": 44,
   "id": "acfbbe49-fe9d-4849-a802-86f69ee07e04",
   "metadata": {},
   "outputs": [
    {
     "name": "stderr",
     "output_type": "stream",
     "text": [
      "No path specified. Models will be saved in: \"AutogluonModels/ag-20250527_173134\"\n",
      "Verbosity: 2 (Standard Logging)\n",
      "=================== System Info ===================\n",
      "AutoGluon Version:  1.2\n",
      "Python Version:     3.12.9\n",
      "Operating System:   Linux\n",
      "Platform Machine:   x86_64\n",
      "Platform Version:   #1 SMP Sat Apr 19 16:54:57 UTC 2025\n",
      "CPU Count:          2\n",
      "Memory Avail:       1.62 GB / 3.76 GB (43.2%)\n",
      "Disk Space Avail:   3.91 GB / 4.99 GB (78.3%)\n",
      "\tWARNING: Available disk space is low and there is a risk that AutoGluon will run out of disk during fit, causing an exception. \n",
      "\tWe recommend a minimum available disk space of 10 GB, and large datasets may require more.\n",
      "===================================================\n",
      "Presets specified: ['best_quality']\n",
      "Setting dynamic_stacking from 'auto' to True. Reason: Enable dynamic_stacking when use_bag_holdout is disabled. (use_bag_holdout=False)\n",
      "Stack configuration (auto_stack=True): num_stack_levels=1, num_bag_folds=8, num_bag_sets=1\n",
      "DyStack is enabled (dynamic_stacking=True). AutoGluon will try to determine whether the input data is affected by stacked overfitting and enable or disable stacking as a consequence.\n",
      "\tThis is used to identify the optimal `num_stack_levels` value. Copies of AutoGluon will be fit on subsets of the data. Then holdout validation data is used to detect stacked overfitting.\n",
      "\tRunning DyStack for up to 150s of the 600s of remaining time (25%).\n",
      "\t\tContext path: \"/home/sagemaker-user/AutogluonModels/ag-20250527_173134/ds_sub_fit/sub_fit_ho\"\n",
      "Leaderboard on holdout data (DyStack):\n",
      "                   model  score_holdout   score_val              eval_metric  pred_time_test  pred_time_val    fit_time  pred_time_test_marginal  pred_time_val_marginal  fit_time_marginal  stack_level  can_infer  fit_order\n",
      "0    WeightedEnsemble_L3     -31.733913  -32.700034  root_mean_squared_error       14.990515      21.044019  133.590704                 0.002359                0.000757           0.029050            3       True          7\n",
      "1      LightGBMXT_BAG_L2     -31.905315  -33.131621  root_mean_squared_error       14.988155      21.043263  133.561654                 0.472236                0.425259          24.638676            2       True          6\n",
      "2    WeightedEnsemble_L2     -32.646951  -33.437365  root_mean_squared_error       14.437068      20.533794  108.895798                 0.002657                0.000681           0.015321            2       True          5\n",
      "3      LightGBMXT_BAG_L1     -33.853815  -35.313302  root_mean_squared_error       13.127555      19.237854   82.653123                13.127555               19.237854          82.653123            1       True          3\n",
      "4        LightGBM_BAG_L1     -33.900800  -34.675022  root_mean_squared_error        1.306857       1.295259   26.227354                 1.306857                1.295259          26.227354            1       True          4\n",
      "5  KNeighborsDist_BAG_L1     -92.031272  -89.946854  root_mean_squared_error        0.040572       0.040863    0.014526                 0.040572                0.040863           0.014526            1       True          2\n",
      "6  KNeighborsUnif_BAG_L1    -109.161488 -107.445008  root_mean_squared_error        0.040935       0.044028    0.027974                 0.040935                0.044028           0.027974            1       True          1\n",
      "\t1\t = Optimal   num_stack_levels (Stacked Overfitting Occurred: False)\n",
      "\t172s\t = DyStack   runtime |\t428s\t = Remaining runtime\n",
      "Starting main fit with num_stack_levels=1.\n",
      "\tFor future fit calls on this dataset, you can skip DyStack to save time: `predictor.fit(..., dynamic_stacking=False, num_stack_levels=1)`\n",
      "Beginning AutoGluon training ... Time limit = 428s\n",
      "AutoGluon will save models to \"/home/sagemaker-user/AutogluonModels/ag-20250527_173134\"\n",
      "Train Data Rows:    10886\n",
      "Train Data Columns: 13\n",
      "Label Column:       count\n",
      "Problem Type:       regression\n",
      "Preprocessing data ...\n",
      "Using Feature Generators to preprocess the data ...\n",
      "Fitting AutoMLPipelineFeatureGenerator...\n",
      "\tAvailable Memory:                    1298.76 MB\n",
      "\tTrain Data (Original)  Memory Usage: 0.77 MB (0.1% of available memory)\n",
      "\tInferring data type of each feature based on column values. Set feature_metadata_in to manually specify special dtypes of the features.\n",
      "\tStage 1 Generators:\n",
      "\t\tFitting AsTypeFeatureGenerator...\n",
      "\t\t\tNote: Converting 3 features to boolean dtype as they only contain 2 unique values.\n",
      "\tStage 2 Generators:\n",
      "\t\tFitting FillNaFeatureGenerator...\n",
      "\tStage 3 Generators:\n",
      "\t\tFitting IdentityFeatureGenerator...\n",
      "\t\tFitting CategoryFeatureGenerator...\n",
      "\t\t\tFitting CategoryMemoryMinimizeFeatureGenerator...\n",
      "\t\tFitting DatetimeFeatureGenerator...\n",
      "\tStage 4 Generators:\n",
      "\t\tFitting DropUniqueFeatureGenerator...\n",
      "\tStage 5 Generators:\n",
      "\t\tFitting DropDuplicatesFeatureGenerator...\n",
      "\tTypes of features in original data (raw dtype, special dtypes):\n",
      "\t\t('category', []) : 2 | ['season', 'weather']\n",
      "\t\t('datetime', []) : 1 | ['datetime']\n",
      "\t\t('float', [])    : 3 | ['temp', 'atemp', 'windspeed']\n",
      "\t\t('int', [])      : 7 | ['holiday', 'workingday', 'humidity', 'year', 'month', ...]\n",
      "\tTypes of features in processed data (raw dtype, special dtypes):\n",
      "\t\t('category', [])             : 2 | ['season', 'weather']\n",
      "\t\t('float', [])                : 3 | ['temp', 'atemp', 'windspeed']\n",
      "\t\t('int', [])                  : 4 | ['humidity', 'month', 'day', 'hour']\n",
      "\t\t('int', ['bool'])            : 3 | ['holiday', 'workingday', 'year']\n",
      "\t\t('int', ['datetime_as_int']) : 3 | ['datetime', 'datetime.year', 'datetime.dayofweek']\n",
      "\t0.8s = Fit runtime\n",
      "\t13 features in original data used to generate 15 features in processed data.\n",
      "\tTrain Data (Processed) Memory Usage: 0.76 MB (0.1% of available memory)\n",
      "Data preprocessing and feature engineering runtime = 0.84s ...\n",
      "AutoGluon will gauge predictive performance using evaluation metric: 'root_mean_squared_error'\n",
      "\tThis metric's sign has been flipped to adhere to being higher_is_better. The metric score can be multiplied by -1 to get the metric value.\n",
      "\tTo change this, specify the eval_metric parameter of Predictor()\n",
      "Large model count detected (112 configs) ... Only displaying the first 3 models of each family. To see all, set `verbosity=3`.\n",
      "User-specified model hyperparameters to be fit:\n",
      "{\n",
      "\t'NN_TORCH': [{}, {'activation': 'elu', 'dropout_prob': 0.10077639529843717, 'hidden_size': 108, 'learning_rate': 0.002735937344002146, 'num_layers': 4, 'use_batchnorm': True, 'weight_decay': 1.356433327634438e-12, 'ag_args': {'name_suffix': '_r79', 'priority': -2}}, {'activation': 'elu', 'dropout_prob': 0.11897478034205347, 'hidden_size': 213, 'learning_rate': 0.0010474382260641949, 'num_layers': 4, 'use_batchnorm': False, 'weight_decay': 5.594471067786272e-10, 'ag_args': {'name_suffix': '_r22', 'priority': -7}}],\n",
      "\t'GBM': [{'extra_trees': True, 'ag_args': {'name_suffix': 'XT'}}, {}, {'learning_rate': 0.03, 'num_leaves': 128, 'feature_fraction': 0.9, 'min_data_in_leaf': 3, 'ag_args': {'name_suffix': 'Large', 'priority': 0, 'hyperparameter_tune_kwargs': None}}],\n",
      "\t'CAT': [{}, {'depth': 6, 'grow_policy': 'SymmetricTree', 'l2_leaf_reg': 2.1542798306067823, 'learning_rate': 0.06864209415792857, 'max_ctr_complexity': 4, 'one_hot_max_size': 10, 'ag_args': {'name_suffix': '_r177', 'priority': -1}}, {'depth': 8, 'grow_policy': 'Depthwise', 'l2_leaf_reg': 2.7997999596449104, 'learning_rate': 0.031375015734637225, 'max_ctr_complexity': 2, 'one_hot_max_size': 3, 'ag_args': {'name_suffix': '_r9', 'priority': -5}}],\n",
      "\t'XGB': [{}, {'colsample_bytree': 0.6917311125174739, 'enable_categorical': False, 'learning_rate': 0.018063876087523967, 'max_depth': 10, 'min_child_weight': 0.6028633586934382, 'ag_args': {'name_suffix': '_r33', 'priority': -8}}, {'colsample_bytree': 0.6628423832084077, 'enable_categorical': False, 'learning_rate': 0.08775715546881824, 'max_depth': 5, 'min_child_weight': 0.6294123374222513, 'ag_args': {'name_suffix': '_r89', 'priority': -16}}],\n",
      "\t'FASTAI': [{}, {'bs': 256, 'emb_drop': 0.5411770367537934, 'epochs': 43, 'layers': [800, 400], 'lr': 0.01519848858318159, 'ps': 0.23782946566604385, 'ag_args': {'name_suffix': '_r191', 'priority': -4}}, {'bs': 2048, 'emb_drop': 0.05070411322605811, 'epochs': 29, 'layers': [200, 100], 'lr': 0.08974235041576624, 'ps': 0.10393466140748028, 'ag_args': {'name_suffix': '_r102', 'priority': -11}}],\n",
      "\t'RF': [{'criterion': 'gini', 'ag_args': {'name_suffix': 'Gini', 'problem_types': ['binary', 'multiclass']}}, {'criterion': 'entropy', 'ag_args': {'name_suffix': 'Entr', 'problem_types': ['binary', 'multiclass']}}, {'criterion': 'squared_error', 'ag_args': {'name_suffix': 'MSE', 'problem_types': ['regression', 'quantile']}}],\n",
      "\t'XT': [{'criterion': 'gini', 'ag_args': {'name_suffix': 'Gini', 'problem_types': ['binary', 'multiclass']}}, {'criterion': 'entropy', 'ag_args': {'name_suffix': 'Entr', 'problem_types': ['binary', 'multiclass']}}, {'criterion': 'squared_error', 'ag_args': {'name_suffix': 'MSE', 'problem_types': ['regression', 'quantile']}}],\n",
      "\t'KNN': [{'weights': 'uniform', 'ag_args': {'name_suffix': 'Unif'}}, {'weights': 'distance', 'ag_args': {'name_suffix': 'Dist'}}],\n",
      "}\n",
      "AutoGluon will fit 2 stack levels (L1 to L2) ...\n",
      "Fitting 108 L1 models, fit_strategy=\"sequential\" ...\n",
      "Fitting model: KNeighborsUnif_BAG_L1 ... Training model for up to 284.41s of the 426.70s of remaining time.\n",
      "\t-101.5462\t = Validation score   (-root_mean_squared_error)\n",
      "\t0.04s\t = Training   runtime\n",
      "\t0.07s\t = Validation runtime\n",
      "Fitting model: KNeighborsDist_BAG_L1 ... Training model for up to 284.27s of the 426.56s of remaining time.\n",
      "\t-84.1251\t = Validation score   (-root_mean_squared_error)\n",
      "\t0.04s\t = Training   runtime\n",
      "\t0.07s\t = Validation runtime\n",
      "Fitting model: LightGBMXT_BAG_L1 ... Training model for up to 284.12s of the 426.41s of remaining time.\n",
      "\tFitting 8 child models (S1F1 - S1F8) | Fitting with ParallelLocalFoldFittingStrategy (2 workers, per: cpus=1, gpus=0, memory=0.58%)\n",
      "I0000 00:00:1748367332.331101     880 chttp2_transport.cc:1182] ipv4:169.255.255.2:39507: Got goaway [2] err=UNAVAILABLE:GOAWAY received; Error code: 2; Debug Text: Cancelling all calls {created_time:\"2025-05-27T17:35:32.331087754+00:00\", http2_error:2, grpc_status:14}\n",
      "\t-34.4539\t = Validation score   (-root_mean_squared_error)\n",
      "\t78.96s\t = Training   runtime\n",
      "\t21.57s\t = Validation runtime\n",
      "Fitting model: LightGBM_BAG_L1 ... Training model for up to 198.75s of the 341.04s of remaining time.\n",
      "\tFitting 8 child models (S1F1 - S1F8) | Fitting with ParallelLocalFoldFittingStrategy (2 workers, per: cpus=1, gpus=0, memory=0.63%)\n",
      "\t-33.9173\t = Validation score   (-root_mean_squared_error)\n",
      "\t38.51s\t = Training   runtime\n",
      "\t3.11s\t = Validation runtime\n",
      "Fitting model: RandomForestMSE_BAG_L1 ... Training model for up to 155.54s of the 297.83s of remaining time.\n",
      "\t-38.425\t = Validation score   (-root_mean_squared_error)\n",
      "\t16.7s\t = Training   runtime\n",
      "\t0.65s\t = Validation runtime\n",
      "Fitting model: CatBoost_BAG_L1 ... Training model for up to 137.78s of the 280.07s of remaining time.\n",
      "\tFitting 8 child models (S1F1 - S1F8) | Fitting with ParallelLocalFoldFittingStrategy (2 workers, per: cpus=1, gpus=0, memory=0.64%)\n",
      "\t-34.8329\t = Validation score   (-root_mean_squared_error)\n",
      "\t122.59s\t = Training   runtime\n",
      "\t0.19s\t = Validation runtime\n",
      "Fitting model: ExtraTreesMSE_BAG_L1 ... Training model for up to 11.81s of the 154.10s of remaining time.\n",
      "\t-38.1073\t = Validation score   (-root_mean_squared_error)\n",
      "\t8.43s\t = Training   runtime\n",
      "\t0.67s\t = Validation runtime\n",
      "Fitting model: NeuralNetFastAI_BAG_L1 ... Training model for up to 2.11s of the 144.40s of remaining time.\n",
      "\tFitting 8 child models (S1F1 - S1F8) | Fitting with ParallelLocalFoldFittingStrategy (2 workers, per: cpus=1, gpus=0, memory=0.52%)\n",
      "\tTime limit exceeded... Skipping NeuralNetFastAI_BAG_L1.\n",
      "I0000 00:00:1748367558.895171     970 chttp2_transport.cc:1182] ipv4:169.255.255.2:41285: Got goaway [2] err=UNAVAILABLE:GOAWAY received; Error code: 2; Debug Text: Cancelling all calls {created_time:\"2025-05-27T17:39:18.895168294+00:00\", http2_error:2, grpc_status:14}\n",
      "Fitting model: WeightedEnsemble_L2 ... Training model for up to 360.00s of the 135.06s of remaining time.\n",
      "\tEnsemble Weights: {'LightGBMXT_BAG_L1': 0.32, 'LightGBM_BAG_L1': 0.32, 'RandomForestMSE_BAG_L1': 0.16, 'CatBoost_BAG_L1': 0.16, 'KNeighborsDist_BAG_L1': 0.04}\n",
      "\t-32.2923\t = Validation score   (-root_mean_squared_error)\n",
      "\t0.04s\t = Training   runtime\n",
      "\t0.0s\t = Validation runtime\n",
      "Fitting 106 L2 models, fit_strategy=\"sequential\" ...\n",
      "Fitting model: LightGBMXT_BAG_L2 ... Training model for up to 135.00s of the 134.96s of remaining time.\n",
      "\tFitting 8 child models (S1F1 - S1F8) | Fitting with ParallelLocalFoldFittingStrategy (2 workers, per: cpus=1, gpus=0, memory=0.82%)\n",
      "2025-05-27 17:39:25,124\tERROR worker.py:422 -- Unhandled error (suppress with 'RAY_IGNORE_UNHANDLED_ERRORS=1'): The worker died unexpectedly while executing this task. Check python-core-worker-*.log files for more information.\n",
      "\t-31.088\t = Validation score   (-root_mean_squared_error)\n",
      "\t28.61s\t = Training   runtime\n",
      "\t0.91s\t = Validation runtime\n",
      "Fitting model: LightGBM_BAG_L2 ... Training model for up to 102.63s of the 102.59s of remaining time.\n",
      "\tFitting 8 child models (S1F1 - S1F8) | Fitting with ParallelLocalFoldFittingStrategy (2 workers, per: cpus=1, gpus=0, memory=0.74%)\n",
      "I0000 00:00:1748367607.684066     970 chttp2_transport.cc:1182] ipv4:169.255.255.2:42875: Got goaway [2] err=UNAVAILABLE:GOAWAY received; Error code: 2; Debug Text: Cancelling all calls {created_time:\"2025-05-27T17:40:07.684061196+00:00\", http2_error:2, grpc_status:14}\n",
      "I0000 00:00:1748367619.807571     969 chttp2_transport.cc:1182] ipv4:169.255.255.2:33213: Got goaway [2] err=UNAVAILABLE:GOAWAY received; Error code: 2; Debug Text: Cancelling all calls {created_time:\"2025-05-27T17:40:19.807568869+00:00\", http2_error:2, grpc_status:14}\n",
      "\t-30.497\t = Validation score   (-root_mean_squared_error)\n",
      "\t25.7s\t = Training   runtime\n",
      "\t0.36s\t = Validation runtime\n",
      "Fitting model: RandomForestMSE_BAG_L2 ... Training model for up to 73.14s of the 73.11s of remaining time.\n",
      "\t-31.6897\t = Validation score   (-root_mean_squared_error)\n",
      "\t40.81s\t = Training   runtime\n",
      "\t1.06s\t = Validation runtime\n",
      "Fitting model: CatBoost_BAG_L2 ... Training model for up to 30.68s of the 30.65s of remaining time.\n",
      "\tFitting 8 child models (S1F1 - S1F8) | Fitting with ParallelLocalFoldFittingStrategy (2 workers, per: cpus=1, gpus=0, memory=0.91%)\n",
      "I0000 00:00:1748367694.155962     977 chttp2_transport.cc:1182] ipv4:169.255.255.2:42673: Got goaway [2] err=UNAVAILABLE:GOAWAY received; Error code: 2; Debug Text: Cancelling all calls {grpc_status:14, http2_error:2, created_time:\"2025-05-27T17:41:34.155959151+00:00\"}\n",
      "\t-31.1771\t = Validation score   (-root_mean_squared_error)\n",
      "\t36.07s\t = Training   runtime\n",
      "\t0.16s\t = Validation runtime\n",
      "Fitting model: WeightedEnsemble_L3 ... Training model for up to 360.00s of the -9.06s of remaining time.\n",
      "\tEnsemble Weights: {'LightGBM_BAG_L2': 0.571, 'LightGBMXT_BAG_L2': 0.238, 'CatBoost_BAG_L2': 0.143, 'RandomForestMSE_BAG_L2': 0.048}\n",
      "\t-30.2877\t = Validation score   (-root_mean_squared_error)\n",
      "\t0.05s\t = Training   runtime\n",
      "\t0.0s\t = Validation runtime\n",
      "AutoGluon training complete, total runtime = 436.71s ... Best model: WeightedEnsemble_L3 | Estimated inference throughput: 51.2 rows/s (1361 batch size)\n",
      "TabularPredictor saved. To load, use: predictor = TabularPredictor.load(\"/home/sagemaker-user/AutogluonModels/ag-20250527_173134\")\n"
     ]
    }
   ],
   "source": [
    "predictor_new_features = TabularPredictor(label=\"count\").fit(\n",
    "    train_data=train,\n",
    "    time_limit=600,\n",
    "    presets=\"best_quality\"\n",
    ")"
   ]
  },
  {
   "cell_type": "code",
   "execution_count": 45,
   "id": "170008ec-b4c2-4290-8023-9a4e2aa54b77",
   "metadata": {},
   "outputs": [
    {
     "name": "stdout",
     "output_type": "stream",
     "text": [
      "*** Summary of fit() ***\n",
      "Estimated performance of each model:\n",
      "                     model   score_val              eval_metric  pred_time_val    fit_time  pred_time_val_marginal  fit_time_marginal  stack_level  can_infer  fit_order\n",
      "0      WeightedEnsemble_L3  -30.287729  root_mean_squared_error      28.810156  396.509290                0.000886           0.047901            3       True         13\n",
      "1          LightGBM_BAG_L2  -30.497015  root_mean_squared_error      26.682689  290.968144                0.355991          25.702232            2       True         10\n",
      "2        LightGBMXT_BAG_L2  -31.088046  root_mean_squared_error      27.232156  293.872055                0.905457          28.606143            2       True          9\n",
      "3          CatBoost_BAG_L2  -31.177081  root_mean_squared_error      26.487105  301.338176                0.160406          36.072265            2       True         12\n",
      "4   RandomForestMSE_BAG_L2  -31.689660  root_mean_squared_error      27.387415  306.080749                1.060717          40.814837            2       True         11\n",
      "5      WeightedEnsemble_L2  -32.292267  root_mean_squared_error      25.591309  256.839663                0.000918           0.039928            2       True          8\n",
      "6          LightGBM_BAG_L1  -33.917339  root_mean_squared_error       3.109171   38.506793                3.109171          38.506793            1       True          4\n",
      "7        LightGBMXT_BAG_L1  -34.453884  root_mean_squared_error      21.566231   78.962640               21.566231          78.962640            1       True          3\n",
      "8          CatBoost_BAG_L1  -34.832862  root_mean_squared_error       0.193981  122.592063                0.193981         122.592063            1       True          6\n",
      "9     ExtraTreesMSE_BAG_L1  -38.107278  root_mean_squared_error       0.669966    8.428853                0.669966           8.428853            1       True          7\n",
      "10  RandomForestMSE_BAG_L1  -38.424984  root_mean_squared_error       0.647899   16.699044                0.647899          16.699044            1       True          5\n",
      "11   KNeighborsDist_BAG_L1  -84.125061  root_mean_squared_error       0.073109    0.039196                0.073109           0.039196            1       True          2\n",
      "12   KNeighborsUnif_BAG_L1 -101.546199  root_mean_squared_error       0.066341    0.037323                0.066341           0.037323            1       True          1\n",
      "Number of models trained: 13\n",
      "Types of models trained:\n",
      "{'StackerEnsembleModel_RF', 'StackerEnsembleModel_LGB', 'WeightedEnsembleModel', 'StackerEnsembleModel_CatBoost', 'StackerEnsembleModel_XT', 'StackerEnsembleModel_KNN'}\n",
      "Bagging used: True  (with 8 folds)\n",
      "Multi-layer stack-ensembling used: True  (with 3 levels)\n",
      "Feature Metadata (Processed):\n",
      "(raw dtype, special dtypes):\n",
      "('category', [])             : 2 | ['season', 'weather']\n",
      "('float', [])                : 3 | ['temp', 'atemp', 'windspeed']\n",
      "('int', [])                  : 4 | ['humidity', 'month', 'day', 'hour']\n",
      "('int', ['bool'])            : 3 | ['holiday', 'workingday', 'year']\n",
      "('int', ['datetime_as_int']) : 3 | ['datetime', 'datetime.year', 'datetime.dayofweek']\n",
      "*** End of fit() summary ***\n"
     ]
    },
    {
     "name": "stderr",
     "output_type": "stream",
     "text": [
      "/opt/conda/lib/python3.12/site-packages/autogluon/core/utils/plots.py:169: UserWarning: AutoGluon summary plots cannot be created because bokeh is not installed. To see plots, please do: \"pip install bokeh==2.0.1\"\n",
      "  warnings.warn('AutoGluon summary plots cannot be created because bokeh is not installed. To see plots, please do: \"pip install bokeh==2.0.1\"')\n"
     ]
    },
    {
     "data": {
      "text/plain": [
       "{'model_types': {'KNeighborsUnif_BAG_L1': 'StackerEnsembleModel_KNN',\n",
       "  'KNeighborsDist_BAG_L1': 'StackerEnsembleModel_KNN',\n",
       "  'LightGBMXT_BAG_L1': 'StackerEnsembleModel_LGB',\n",
       "  'LightGBM_BAG_L1': 'StackerEnsembleModel_LGB',\n",
       "  'RandomForestMSE_BAG_L1': 'StackerEnsembleModel_RF',\n",
       "  'CatBoost_BAG_L1': 'StackerEnsembleModel_CatBoost',\n",
       "  'ExtraTreesMSE_BAG_L1': 'StackerEnsembleModel_XT',\n",
       "  'WeightedEnsemble_L2': 'WeightedEnsembleModel',\n",
       "  'LightGBMXT_BAG_L2': 'StackerEnsembleModel_LGB',\n",
       "  'LightGBM_BAG_L2': 'StackerEnsembleModel_LGB',\n",
       "  'RandomForestMSE_BAG_L2': 'StackerEnsembleModel_RF',\n",
       "  'CatBoost_BAG_L2': 'StackerEnsembleModel_CatBoost',\n",
       "  'WeightedEnsemble_L3': 'WeightedEnsembleModel'},\n",
       " 'model_performance': {'KNeighborsUnif_BAG_L1': -101.54619908446061,\n",
       "  'KNeighborsDist_BAG_L1': -84.12506123181602,\n",
       "  'LightGBMXT_BAG_L1': -34.453884062670745,\n",
       "  'LightGBM_BAG_L1': -33.91733862651761,\n",
       "  'RandomForestMSE_BAG_L1': -38.424983594881716,\n",
       "  'CatBoost_BAG_L1': -34.832862499083234,\n",
       "  'ExtraTreesMSE_BAG_L1': -38.10727767243523,\n",
       "  'WeightedEnsemble_L2': -32.2922667488662,\n",
       "  'LightGBMXT_BAG_L2': -31.088046483965382,\n",
       "  'LightGBM_BAG_L2': -30.49701454560482,\n",
       "  'RandomForestMSE_BAG_L2': -31.689660146035944,\n",
       "  'CatBoost_BAG_L2': -31.177081336155016,\n",
       "  'WeightedEnsemble_L3': -30.28772912038643},\n",
       " 'model_best': 'WeightedEnsemble_L3',\n",
       " 'model_paths': {'KNeighborsUnif_BAG_L1': ['KNeighborsUnif_BAG_L1'],\n",
       "  'KNeighborsDist_BAG_L1': ['KNeighborsDist_BAG_L1'],\n",
       "  'LightGBMXT_BAG_L1': ['LightGBMXT_BAG_L1'],\n",
       "  'LightGBM_BAG_L1': ['LightGBM_BAG_L1'],\n",
       "  'RandomForestMSE_BAG_L1': ['RandomForestMSE_BAG_L1'],\n",
       "  'CatBoost_BAG_L1': ['CatBoost_BAG_L1'],\n",
       "  'ExtraTreesMSE_BAG_L1': ['ExtraTreesMSE_BAG_L1'],\n",
       "  'WeightedEnsemble_L2': ['WeightedEnsemble_L2'],\n",
       "  'LightGBMXT_BAG_L2': ['LightGBMXT_BAG_L2'],\n",
       "  'LightGBM_BAG_L2': ['LightGBM_BAG_L2'],\n",
       "  'RandomForestMSE_BAG_L2': ['RandomForestMSE_BAG_L2'],\n",
       "  'CatBoost_BAG_L2': ['CatBoost_BAG_L2'],\n",
       "  'WeightedEnsemble_L3': ['WeightedEnsemble_L3']},\n",
       " 'model_fit_times': {'KNeighborsUnif_BAG_L1': 0.0373234748840332,\n",
       "  'KNeighborsDist_BAG_L1': 0.03919577598571777,\n",
       "  'LightGBMXT_BAG_L1': 78.96263980865479,\n",
       "  'LightGBM_BAG_L1': 38.50679278373718,\n",
       "  'RandomForestMSE_BAG_L1': 16.69904351234436,\n",
       "  'CatBoost_BAG_L1': 122.59206342697144,\n",
       "  'ExtraTreesMSE_BAG_L1': 8.428852796554565,\n",
       "  'WeightedEnsemble_L2': 0.03992772102355957,\n",
       "  'LightGBMXT_BAG_L2': 28.606143474578857,\n",
       "  'LightGBM_BAG_L2': 25.702232360839844,\n",
       "  'RandomForestMSE_BAG_L2': 40.81483697891235,\n",
       "  'CatBoost_BAG_L2': 36.072264671325684,\n",
       "  'WeightedEnsemble_L3': 0.047901153564453125},\n",
       " 'model_pred_times': {'KNeighborsUnif_BAG_L1': 0.06634116172790527,\n",
       "  'KNeighborsDist_BAG_L1': 0.07310891151428223,\n",
       "  'LightGBMXT_BAG_L1': 21.56623077392578,\n",
       "  'LightGBM_BAG_L1': 3.109170913696289,\n",
       "  'RandomForestMSE_BAG_L1': 0.6478989124298096,\n",
       "  'CatBoost_BAG_L1': 0.19398117065429688,\n",
       "  'ExtraTreesMSE_BAG_L1': 0.669966459274292,\n",
       "  'WeightedEnsemble_L2': 0.0009181499481201172,\n",
       "  'LightGBMXT_BAG_L2': 0.9054574966430664,\n",
       "  'LightGBM_BAG_L2': 0.3559906482696533,\n",
       "  'RandomForestMSE_BAG_L2': 1.0607166290283203,\n",
       "  'CatBoost_BAG_L2': 0.16040635108947754,\n",
       "  'WeightedEnsemble_L3': 0.0008864402770996094},\n",
       " 'num_bag_folds': 8,\n",
       " 'max_stack_level': 3,\n",
       " 'model_hyperparams': {'KNeighborsUnif_BAG_L1': {'use_orig_features': True,\n",
       "   'valid_stacker': True,\n",
       "   'max_base_models': 0,\n",
       "   'max_base_models_per_type': 'auto',\n",
       "   'save_bag_folds': True,\n",
       "   'use_child_oof': True},\n",
       "  'KNeighborsDist_BAG_L1': {'use_orig_features': True,\n",
       "   'valid_stacker': True,\n",
       "   'max_base_models': 0,\n",
       "   'max_base_models_per_type': 'auto',\n",
       "   'save_bag_folds': True,\n",
       "   'use_child_oof': True},\n",
       "  'LightGBMXT_BAG_L1': {'use_orig_features': True,\n",
       "   'valid_stacker': True,\n",
       "   'max_base_models': 0,\n",
       "   'max_base_models_per_type': 'auto',\n",
       "   'save_bag_folds': True},\n",
       "  'LightGBM_BAG_L1': {'use_orig_features': True,\n",
       "   'valid_stacker': True,\n",
       "   'max_base_models': 0,\n",
       "   'max_base_models_per_type': 'auto',\n",
       "   'save_bag_folds': True},\n",
       "  'RandomForestMSE_BAG_L1': {'use_orig_features': True,\n",
       "   'valid_stacker': True,\n",
       "   'max_base_models': 0,\n",
       "   'max_base_models_per_type': 'auto',\n",
       "   'save_bag_folds': True,\n",
       "   'use_child_oof': True},\n",
       "  'CatBoost_BAG_L1': {'use_orig_features': True,\n",
       "   'valid_stacker': True,\n",
       "   'max_base_models': 0,\n",
       "   'max_base_models_per_type': 'auto',\n",
       "   'save_bag_folds': True},\n",
       "  'ExtraTreesMSE_BAG_L1': {'use_orig_features': True,\n",
       "   'valid_stacker': True,\n",
       "   'max_base_models': 0,\n",
       "   'max_base_models_per_type': 'auto',\n",
       "   'save_bag_folds': True,\n",
       "   'use_child_oof': True},\n",
       "  'WeightedEnsemble_L2': {'use_orig_features': False,\n",
       "   'valid_stacker': True,\n",
       "   'max_base_models': 0,\n",
       "   'max_base_models_per_type': 'auto',\n",
       "   'save_bag_folds': True},\n",
       "  'LightGBMXT_BAG_L2': {'use_orig_features': True,\n",
       "   'valid_stacker': True,\n",
       "   'max_base_models': 0,\n",
       "   'max_base_models_per_type': 'auto',\n",
       "   'save_bag_folds': True},\n",
       "  'LightGBM_BAG_L2': {'use_orig_features': True,\n",
       "   'valid_stacker': True,\n",
       "   'max_base_models': 0,\n",
       "   'max_base_models_per_type': 'auto',\n",
       "   'save_bag_folds': True},\n",
       "  'RandomForestMSE_BAG_L2': {'use_orig_features': True,\n",
       "   'valid_stacker': True,\n",
       "   'max_base_models': 0,\n",
       "   'max_base_models_per_type': 'auto',\n",
       "   'save_bag_folds': True,\n",
       "   'use_child_oof': True},\n",
       "  'CatBoost_BAG_L2': {'use_orig_features': True,\n",
       "   'valid_stacker': True,\n",
       "   'max_base_models': 0,\n",
       "   'max_base_models_per_type': 'auto',\n",
       "   'save_bag_folds': True},\n",
       "  'WeightedEnsemble_L3': {'use_orig_features': False,\n",
       "   'valid_stacker': True,\n",
       "   'max_base_models': 0,\n",
       "   'max_base_models_per_type': 'auto',\n",
       "   'save_bag_folds': True}},\n",
       " 'leaderboard':                      model   score_val  ... can_infer  fit_order\n",
       " 0      WeightedEnsemble_L3  -30.287729  ...      True         13\n",
       " 1          LightGBM_BAG_L2  -30.497015  ...      True         10\n",
       " 2        LightGBMXT_BAG_L2  -31.088046  ...      True          9\n",
       " 3          CatBoost_BAG_L2  -31.177081  ...      True         12\n",
       " 4   RandomForestMSE_BAG_L2  -31.689660  ...      True         11\n",
       " 5      WeightedEnsemble_L2  -32.292267  ...      True          8\n",
       " 6          LightGBM_BAG_L1  -33.917339  ...      True          4\n",
       " 7        LightGBMXT_BAG_L1  -34.453884  ...      True          3\n",
       " 8          CatBoost_BAG_L1  -34.832862  ...      True          6\n",
       " 9     ExtraTreesMSE_BAG_L1  -38.107278  ...      True          7\n",
       " 10  RandomForestMSE_BAG_L1  -38.424984  ...      True          5\n",
       " 11   KNeighborsDist_BAG_L1  -84.125061  ...      True          2\n",
       " 12   KNeighborsUnif_BAG_L1 -101.546199  ...      True          1\n",
       " \n",
       " [13 rows x 10 columns]}"
      ]
     },
     "execution_count": 45,
     "metadata": {},
     "output_type": "execute_result"
    }
   ],
   "source": [
    "predictor_new_features.fit_summary()"
   ]
  },
  {
   "cell_type": "code",
   "execution_count": 47,
   "id": "584196c9-df5a-43e0-812d-b714b82772ca",
   "metadata": {},
   "outputs": [],
   "source": [
    "performance = predictor_new_features.evaluate(train)"
   ]
  },
  {
   "cell_type": "code",
   "execution_count": 71,
   "id": "6e5472d1-3925-4f60-b30c-4a38f70de81a",
   "metadata": {},
   "outputs": [
    {
     "data": {
      "text/plain": [
       "{'root_mean_squared_error': -15.622133537250898,\n",
       " 'mean_squared_error': -244.05105625569925,\n",
       " 'mean_absolute_error': -9.904288931397115,\n",
       " 'r2': 0.9925617575645447,\n",
       " 'pearsonr': 0.9967150469380277,\n",
       " 'median_absolute_error': -6.087165832519531}"
      ]
     },
     "execution_count": 71,
     "metadata": {},
     "output_type": "execute_result"
    }
   ],
   "source": [
    "performance"
   ]
  },
  {
   "cell_type": "code",
   "execution_count": 48,
   "id": "bdde1121-9380-4c3d-bae7-166c1e21660f",
   "metadata": {},
   "outputs": [
    {
     "data": {
      "text/plain": [
       "<Axes: xlabel='model'>"
      ]
     },
     "execution_count": 48,
     "metadata": {},
     "output_type": "execute_result"
    },
    {
     "data": {
      "image/png": "[encoded data removed]",
      "text/plain": [
       "<Figure size 640x480 with 1 Axes>"
      ]
     },
     "metadata": {},
     "output_type": "display_data"
    }
   ],
   "source": [
    "predictor_new_features.leaderboard(silent=True).plot(kind=\"bar\", x=\"model\", y=\"score_val\")"
   ]
  },
  {
   "cell_type": "code",
   "execution_count": 49,
   "id": "e28e4054-d029-498d-863a-1a0796536529",
   "metadata": {},
   "outputs": [],
   "source": [
    "predictions_new_fet = predictor_new_features.predict(test)"
   ]
  },
  {
   "cell_type": "code",
   "execution_count": 50,
   "id": "e1b37135-9211-465b-8c1a-a0c39dac3a41",
   "metadata": {},
   "outputs": [
    {
     "data": {
      "text/plain": [
       "count    6493.000000\n",
       "mean      162.152283\n",
       "std       143.375031\n",
       "min         2.502689\n",
       "25%        49.366631\n",
       "50%       124.816910\n",
       "75%       231.484894\n",
       "max       816.902954\n",
       "Name: count, dtype: float64"
      ]
     },
     "execution_count": 50,
     "metadata": {},
     "output_type": "execute_result"
    }
   ],
   "source": [
    "predictions_new_fet.describe()"
   ]
  },
  {
   "cell_type": "code",
   "execution_count": 51,
   "id": "2b77668e-02ad-4104-a297-0a8ee36dafe2",
   "metadata": {},
   "outputs": [],
   "source": [
    "predictions_new_fet = [x if x > 0 else 0 for x in predictions_new_fet]"
   ]
  },
  {
   "cell_type": "code",
   "execution_count": 52,
   "id": "c50844eb-7ebc-49e2-9055-e02c9cab8bf2",
   "metadata": {},
   "outputs": [],
   "source": [
    "submission_new_features = pd.read_csv('sampleSubmission.csv')\n",
    "submission_new_features[\"count\"] = predictions_new_fet"
   ]
  },
  {
   "cell_type": "code",
   "execution_count": 53,
   "id": "019a3553-2b88-4198-b438-129860651693",
   "metadata": {},
   "outputs": [],
   "source": [
    "submission_new_features.to_csv(\"submission_new_features.csv\", index=False)"
   ]
  },
  {
   "cell_type": "code",
   "execution_count": 54,
   "id": "0c1d7ef6-995e-4203-85b6-d4d82f108001",
   "metadata": {},
   "outputs": [
    {
     "name": "stdout",
     "output_type": "stream",
     "text": [
      "100%|████████████████████████████████████████| 243k/243k [00:00<00:00, 1.01MB/s]\n",
      "Successfully submitted to Bike Sharing Demand"
     ]
    }
   ],
   "source": [
    "!kaggle competitions submit -c bike-sharing-demand -f submission_new_features.csv -m \"new features\""
   ]
  },
  {
   "cell_type": "code",
   "execution_count": 55,
   "id": "dc161ebe-3e18-4b57-aeae-ae232972fa04",
   "metadata": {},
   "outputs": [
    {
     "name": "stdout",
     "output_type": "stream",
     "text": [
      "fileName                     date                        description                        status                     publicScore  privateScore  \n",
      "---------------------------  --------------------------  ---------------------------------  -------------------------  -----------  ------------  \n",
      "submission_new_features.csv  2025-05-27 17:56:04.210000  new features                       SubmissionStatus.COMPLETE  0.63043      0.63043       \n",
      "submission.csv               2025-05-27 17:27:29.793000  first raw submission               SubmissionStatus.COMPLETE  1.79854      1.79854       \n",
      "submission_new_hpo.csv       2025-05-25 19:13:47.703000  new features with hyperparameters  SubmissionStatus.COMPLETE  0.51037      0.51037       \n",
      "submission_new_features.csv  2025-05-25 18:32:44.883000  new features                       SubmissionStatus.COMPLETE  0.60985      0.60985       \n"
     ]
    }
   ],
   "source": [
    "!kaggle competitions submissions -c bike-sharing-demand | tail -n +1 | head -n 6"
   ]
  },
  {
   "cell_type": "markdown",
   "id": "7d28620f-c490-4909-bd31-8c02eae4692c",
   "metadata": {},
   "source": [
    "## Change Hyperparameters"
   ]
  },
  {
   "cell_type": "code",
   "execution_count": 56,
   "id": "2a99c382-75c5-4d8d-ba51-d08360530ccc",
   "metadata": {},
   "outputs": [
    {
     "name": "stderr",
     "output_type": "stream",
     "text": [
      "No path specified. Models will be saved in: \"AutogluonModels/ag-20250527_180056\"\n",
      "Verbosity: 2 (Standard Logging)\n",
      "=================== System Info ===================\n",
      "AutoGluon Version:  1.2\n",
      "Python Version:     3.12.9\n",
      "Operating System:   Linux\n",
      "Platform Machine:   x86_64\n",
      "Platform Version:   #1 SMP Sat Apr 19 16:54:57 UTC 2025\n",
      "CPU Count:          2\n",
      "Memory Avail:       1.57 GB / 3.76 GB (41.7%)\n",
      "Disk Space Avail:   2.92 GB / 4.99 GB (58.5%)\n",
      "\tWARNING: Available disk space is low and there is a risk that AutoGluon will run out of disk during fit, causing an exception. \n",
      "\tWe recommend a minimum available disk space of 10 GB, and large datasets may require more.\n",
      "===================================================\n",
      "No presets specified! To achieve strong results with AutoGluon, it is recommended to use the available presets. Defaulting to `'medium'`...\n",
      "\tRecommended Presets (For more details refer to https://auto.gluon.ai/stable/tutorials/tabular/tabular-essentials.html#presets):\n",
      "\tpresets='experimental' : New in v1.2: Pre-trained foundation model + parallel fits. The absolute best accuracy without consideration for inference speed. Does not support GPU.\n",
      "\tpresets='best'         : Maximize accuracy. Recommended for most users. Use in competitions and benchmarks.\n",
      "\tpresets='high'         : Strong accuracy with fast inference speed.\n",
      "\tpresets='good'         : Good accuracy with very fast inference speed.\n",
      "\tpresets='medium'       : Fast training time, ideal for initial prototyping.\n",
      "Beginning AutoGluon training ...\n",
      "AutoGluon will save models to \"/home/sagemaker-user/AutogluonModels/ag-20250527_180056\"\n",
      "Train Data Rows:    10886\n",
      "Train Data Columns: 13\n",
      "Label Column:       count\n",
      "AutoGluon infers your prediction problem is: 'regression' (because dtype of label-column == int and many unique label-values observed).\n",
      "\tLabel info (max, min, mean, stddev): (977, 1, 191.57413, 181.14445)\n",
      "\tIf 'regression' is not the correct problem_type, please manually specify the problem_type parameter during Predictor init (You may specify problem_type as one of: ['binary', 'multiclass', 'regression', 'quantile'])\n",
      "Problem Type:       regression\n",
      "Preprocessing data ...\n",
      "Using Feature Generators to preprocess the data ...\n",
      "Fitting AutoMLPipelineFeatureGenerator...\n",
      "\tAvailable Memory:                    1606.74 MB\n",
      "\tTrain Data (Original)  Memory Usage: 0.77 MB (0.0% of available memory)\n",
      "\tInferring data type of each feature based on column values. Set feature_metadata_in to manually specify special dtypes of the features.\n",
      "\tStage 1 Generators:\n",
      "\t\tFitting AsTypeFeatureGenerator...\n",
      "\t\t\tNote: Converting 3 features to boolean dtype as they only contain 2 unique values.\n",
      "\tStage 2 Generators:\n",
      "\t\tFitting FillNaFeatureGenerator...\n",
      "\tStage 3 Generators:\n",
      "\t\tFitting IdentityFeatureGenerator...\n",
      "\t\tFitting CategoryFeatureGenerator...\n",
      "\t\t\tFitting CategoryMemoryMinimizeFeatureGenerator...\n",
      "\t\tFitting DatetimeFeatureGenerator...\n",
      "\tStage 4 Generators:\n",
      "\t\tFitting DropUniqueFeatureGenerator...\n",
      "\tStage 5 Generators:\n",
      "\t\tFitting DropDuplicatesFeatureGenerator...\n",
      "\tTypes of features in original data (raw dtype, special dtypes):\n",
      "\t\t('category', []) : 2 | ['season', 'weather']\n",
      "\t\t('datetime', []) : 1 | ['datetime']\n",
      "\t\t('float', [])    : 3 | ['temp', 'atemp', 'windspeed']\n",
      "\t\t('int', [])      : 7 | ['holiday', 'workingday', 'humidity', 'year', 'month', ...]\n",
      "\tTypes of features in processed data (raw dtype, special dtypes):\n",
      "\t\t('category', [])             : 2 | ['season', 'weather']\n",
      "\t\t('float', [])                : 3 | ['temp', 'atemp', 'windspeed']\n",
      "\t\t('int', [])                  : 4 | ['humidity', 'month', 'day', 'hour']\n",
      "\t\t('int', ['bool'])            : 3 | ['holiday', 'workingday', 'year']\n",
      "\t\t('int', ['datetime_as_int']) : 3 | ['datetime', 'datetime.year', 'datetime.dayofweek']\n",
      "\t1.2s = Fit runtime\n",
      "\t13 features in original data used to generate 15 features in processed data.\n",
      "\tTrain Data (Processed) Memory Usage: 0.76 MB (0.0% of available memory)\n",
      "Data preprocessing and feature engineering runtime = 1.28s ...\n",
      "AutoGluon will gauge predictive performance using evaluation metric: 'root_mean_squared_error'\n",
      "\tThis metric's sign has been flipped to adhere to being higher_is_better. The metric score can be multiplied by -1 to get the metric value.\n",
      "\tTo change this, specify the eval_metric parameter of Predictor()\n",
      "Automatically generating train/validation split with holdout_frac=0.1, Train Rows: 9797, Val Rows: 1089\n",
      "User-specified model hyperparameters to be fit:\n",
      "{\n",
      "\t'RF': [{'n_estimators': 300, 'max_depth': 15}],\n",
      "\t'XGB': [{'learning_rate': 0.05, 'max_depth': 8}],\n",
      "\t'CAT': [{'iterations': 1000, 'learning_rate': 0.03}],\n",
      "\t'NN_TORCH': [{'num_epochs': 20}],\n",
      "}\n",
      "Fitting 4 L1 models, fit_strategy=\"sequential\" ...\n",
      "Fitting model: RandomForest ...\n",
      "\t-39.0339\t = Validation score   (-root_mean_squared_error)\n",
      "\t15.53s\t = Training   runtime\n",
      "\t0.22s\t = Validation runtime\n",
      "Fitting model: CatBoost ...\n",
      "\t-39.2904\t = Validation score   (-root_mean_squared_error)\n",
      "\t13.76s\t = Training   runtime\n",
      "\t0.0s\t = Validation runtime\n",
      "Fitting model: XGBoost ...\n",
      "\t-35.2669\t = Validation score   (-root_mean_squared_error)\n",
      "\t7.92s\t = Training   runtime\n",
      "\t0.1s\t = Validation runtime\n",
      "Fitting model: NeuralNetTorch ...\n",
      "\t-56.9473\t = Validation score   (-root_mean_squared_error)\n",
      "\t18.37s\t = Training   runtime\n",
      "\t0.01s\t = Validation runtime\n",
      "Fitting model: WeightedEnsemble_L2 ...\n",
      "\tEnsemble Weights: {'XGBoost': 0.636, 'RandomForest': 0.182, 'CatBoost': 0.136, 'NeuralNetTorch': 0.045}\n",
      "\t-34.5161\t = Validation score   (-root_mean_squared_error)\n",
      "\t0.01s\t = Training   runtime\n",
      "\t0.0s\t = Validation runtime\n",
      "AutoGluon training complete, total runtime = 57.61s ... Best model: WeightedEnsemble_L2 | Estimated inference throughput: 3181.7 rows/s (1089 batch size)\n",
      "TabularPredictor saved. To load, use: predictor = TabularPredictor.load(\"/home/sagemaker-user/AutogluonModels/ag-20250527_180056\")\n"
     ]
    }
   ],
   "source": [
    "predictor_new_hpo = TabularPredictor(label='count').fit(\n",
    "    train_data=train,\n",
    "    hyperparameters={\n",
    "        'RF': {'n_estimators': 300, 'max_depth': 15},\n",
    "        'XGB': {'learning_rate': 0.05, 'max_depth': 8},\n",
    "        'CAT': {'iterations': 1000, 'learning_rate': 0.03},\n",
    "        'NN_TORCH': {'num_epochs': 20},\n",
    "    }\n",
    ")"
   ]
  },
  {
   "cell_type": "code",
   "execution_count": 57,
   "id": "a8db2623-66b1-444e-ab42-4336e7fa6fd0",
   "metadata": {},
   "outputs": [
    {
     "name": "stdout",
     "output_type": "stream",
     "text": [
      "*** Summary of fit() ***\n",
      "Estimated performance of each model:\n",
      "                 model  score_val              eval_metric  pred_time_val   fit_time  pred_time_val_marginal  fit_time_marginal  stack_level  can_infer  fit_order\n",
      "0  WeightedEnsemble_L2 -34.516079  root_mean_squared_error       0.342272  55.582648                0.000438           0.012298            2       True          5\n",
      "1              XGBoost -35.266885  root_mean_squared_error       0.102477   7.915687                0.102477           7.915687            1       True          3\n",
      "2         RandomForest -39.033930  root_mean_squared_error       0.221525  15.527600                0.221525          15.527600            1       True          1\n",
      "3             CatBoost -39.290401  root_mean_squared_error       0.004974  13.757182                0.004974          13.757182            1       True          2\n",
      "4       NeuralNetTorch -56.947295  root_mean_squared_error       0.012859  18.369881                0.012859          18.369881            1       True          4\n",
      "Number of models trained: 5\n",
      "Types of models trained:\n",
      "{'WeightedEnsembleModel', 'TabularNeuralNetTorchModel', 'CatBoostModel', 'RFModel', 'XGBoostModel'}\n",
      "Bagging used: False \n",
      "Multi-layer stack-ensembling used: False \n",
      "Feature Metadata (Processed):\n",
      "(raw dtype, special dtypes):\n",
      "('category', [])             : 2 | ['season', 'weather']\n",
      "('float', [])                : 3 | ['temp', 'atemp', 'windspeed']\n",
      "('int', [])                  : 4 | ['humidity', 'month', 'day', 'hour']\n",
      "('int', ['bool'])            : 3 | ['holiday', 'workingday', 'year']\n",
      "('int', ['datetime_as_int']) : 3 | ['datetime', 'datetime.year', 'datetime.dayofweek']\n",
      "*** End of fit() summary ***\n"
     ]
    },
    {
     "name": "stderr",
     "output_type": "stream",
     "text": [
      "/opt/conda/lib/python3.12/site-packages/autogluon/core/utils/plots.py:169: UserWarning: AutoGluon summary plots cannot be created because bokeh is not installed. To see plots, please do: \"pip install bokeh==2.0.1\"\n",
      "  warnings.warn('AutoGluon summary plots cannot be created because bokeh is not installed. To see plots, please do: \"pip install bokeh==2.0.1\"')\n"
     ]
    },
    {
     "data": {
      "text/plain": [
       "{'model_types': {'RandomForest': 'RFModel',\n",
       "  'CatBoost': 'CatBoostModel',\n",
       "  'XGBoost': 'XGBoostModel',\n",
       "  'NeuralNetTorch': 'TabularNeuralNetTorchModel',\n",
       "  'WeightedEnsemble_L2': 'WeightedEnsembleModel'},\n",
       " 'model_performance': {'RandomForest': -39.03392978800655,\n",
       "  'CatBoost': -39.29040118404546,\n",
       "  'XGBoost': -35.26688527735163,\n",
       "  'NeuralNetTorch': -56.94729494922701,\n",
       "  'WeightedEnsemble_L2': -34.51607895628616},\n",
       " 'model_best': 'WeightedEnsemble_L2',\n",
       " 'model_paths': {'RandomForest': ['RandomForest'],\n",
       "  'CatBoost': ['CatBoost'],\n",
       "  'XGBoost': ['XGBoost'],\n",
       "  'NeuralNetTorch': ['NeuralNetTorch'],\n",
       "  'WeightedEnsemble_L2': ['WeightedEnsemble_L2']},\n",
       " 'model_fit_times': {'RandomForest': 15.527599573135376,\n",
       "  'CatBoost': 13.757181882858276,\n",
       "  'XGBoost': 7.91568660736084,\n",
       "  'NeuralNetTorch': 18.36988115310669,\n",
       "  'WeightedEnsemble_L2': 0.012298345565795898},\n",
       " 'model_pred_times': {'RandomForest': 0.22152471542358398,\n",
       "  'CatBoost': 0.004973888397216797,\n",
       "  'XGBoost': 0.10247683525085449,\n",
       "  'NeuralNetTorch': 0.012859106063842773,\n",
       "  'WeightedEnsemble_L2': 0.00043773651123046875},\n",
       " 'num_bag_folds': 0,\n",
       " 'max_stack_level': 2,\n",
       " 'model_hyperparams': {'RandomForest': {'n_estimators': 300,\n",
       "   'max_leaf_nodes': 15000,\n",
       "   'n_jobs': -1,\n",
       "   'random_state': 0,\n",
       "   'bootstrap': True,\n",
       "   'max_depth': 15},\n",
       "  'CatBoost': {'iterations': 1000,\n",
       "   'learning_rate': 0.03,\n",
       "   'random_seed': 0,\n",
       "   'allow_writing_files': False,\n",
       "   'eval_metric': 'RMSE'},\n",
       "  'XGBoost': {'n_estimators': 10000,\n",
       "   'learning_rate': 0.05,\n",
       "   'n_jobs': -1,\n",
       "   'proc.max_category_levels': 100,\n",
       "   'objective': 'reg:squarederror',\n",
       "   'booster': 'gbtree',\n",
       "   'max_depth': 8},\n",
       "  'NeuralNetTorch': {'num_epochs': 20,\n",
       "   'epochs_wo_improve': None,\n",
       "   'activation': 'relu',\n",
       "   'embedding_size_factor': 1.0,\n",
       "   'embed_exponent': 0.56,\n",
       "   'max_embedding_dim': 100,\n",
       "   'y_range': None,\n",
       "   'y_range_extend': 0.05,\n",
       "   'dropout_prob': 0.1,\n",
       "   'optimizer': 'adam',\n",
       "   'learning_rate': 0.0003,\n",
       "   'weight_decay': 1e-06,\n",
       "   'proc.embed_min_categories': 4,\n",
       "   'proc.impute_strategy': 'median',\n",
       "   'proc.max_category_levels': 100,\n",
       "   'proc.skew_threshold': 0.99,\n",
       "   'use_ngram_features': False,\n",
       "   'num_layers': 4,\n",
       "   'hidden_size': 128,\n",
       "   'max_batch_size': 512,\n",
       "   'use_batchnorm': False,\n",
       "   'loss_function': 'auto'},\n",
       "  'WeightedEnsemble_L2': {'use_orig_features': False,\n",
       "   'valid_stacker': True,\n",
       "   'max_base_models': 0,\n",
       "   'max_base_models_per_type': 'auto',\n",
       "   'save_bag_folds': True}},\n",
       " 'leaderboard':                  model  score_val  ... can_infer  fit_order\n",
       " 0  WeightedEnsemble_L2 -34.516079  ...      True          5\n",
       " 1              XGBoost -35.266885  ...      True          3\n",
       " 2         RandomForest -39.033930  ...      True          1\n",
       " 3             CatBoost -39.290401  ...      True          2\n",
       " 4       NeuralNetTorch -56.947295  ...      True          4\n",
       " \n",
       " [5 rows x 10 columns]}"
      ]
     },
     "execution_count": 57,
     "metadata": {},
     "output_type": "execute_result"
    }
   ],
   "source": [
    "predictor_new_hpo.fit_summary()"
   ]
  },
  {
   "cell_type": "code",
   "execution_count": 59,
   "id": "24b91449-d498-4a33-9111-418b326ed55b",
   "metadata": {},
   "outputs": [],
   "source": [
    "performance_hyp = predictor_new_hpo.evaluate(train)"
   ]
  },
  {
   "cell_type": "code",
   "execution_count": 60,
   "id": "e6c2e19e-13af-4077-a8ee-3532c5c8efa9",
   "metadata": {},
   "outputs": [
    {
     "data": {
      "text/plain": [
       "{'root_mean_squared_error': -17.989907601721317,\n",
       " 'mean_squared_error': -323.6367755184705,\n",
       " 'mean_absolute_error': -11.126336251000353,\n",
       " 'r2': 0.9901361465454102,\n",
       " 'pearsonr': 0.9951716610951991,\n",
       " 'median_absolute_error': -6.512447357177734}"
      ]
     },
     "execution_count": 60,
     "metadata": {},
     "output_type": "execute_result"
    }
   ],
   "source": [
    "performance_hyp"
   ]
  },
  {
   "cell_type": "code",
   "execution_count": 61,
   "id": "591bef3b-27d0-470b-9307-a6cd8a6dfdac",
   "metadata": {},
   "outputs": [
    {
     "data": {
      "text/plain": [
       "count    6493.000000\n",
       "mean      193.365860\n",
       "std       172.646164\n",
       "min       -11.488589\n",
       "25%        47.681801\n",
       "50%       153.872665\n",
       "75%       287.323944\n",
       "max       883.268311\n",
       "Name: count, dtype: float64"
      ]
     },
     "execution_count": 61,
     "metadata": {},
     "output_type": "execute_result"
    }
   ],
   "source": [
    "predictions_hyp = predictor_new_hpo.predict(test)\n",
    "predictions_hyp.describe()"
   ]
  },
  {
   "cell_type": "code",
   "execution_count": 62,
   "id": "4da22ebe-8db9-4c19-9264-a73b6d5a7bf3",
   "metadata": {},
   "outputs": [],
   "source": [
    "predictions_hyp = [x if x > 0 else 0 for x in predictions_hyp]"
   ]
  },
  {
   "cell_type": "code",
   "execution_count": 68,
   "id": "8c239626-adc8-4a37-819b-2097086cd9d2",
   "metadata": {},
   "outputs": [
    {
     "data": {
      "text/plain": [
       "0"
      ]
     },
     "execution_count": 68,
     "metadata": {},
     "output_type": "execute_result"
    }
   ],
   "source": [
    "min(predictions_hyp)"
   ]
  },
  {
   "cell_type": "code",
   "execution_count": 69,
   "id": "32eb9bd5-94d0-4e96-ba7b-283c5c66a3c5",
   "metadata": {},
   "outputs": [
    {
     "name": "stdout",
     "output_type": "stream",
     "text": [
      "100%|█████████████████████████████████████████| 242k/242k [00:00<00:00, 872kB/s]\n",
      "Successfully submitted to Bike Sharing Demand"
     ]
    }
   ],
   "source": [
    "submission_new_hpo = pd.read_csv('sampleSubmission.csv')\n",
    "\n",
    "submission_new_hpo[\"count\"] = predictions_hyp\n",
    "submission_new_hpo.to_csv(\"submission_new_hpo.csv\", index=False)\n",
    "\n",
    "!kaggle competitions submit -c bike-sharing-demand -f submission_new_hpo.csv -m \"new features with hyperparameters\""
   ]
  },
  {
   "cell_type": "code",
   "execution_count": 70,
   "id": "42c4254e-75b7-45f1-b1bd-78b3d005f306",
   "metadata": {},
   "outputs": [
    {
     "name": "stdout",
     "output_type": "stream",
     "text": [
      "fileName                     date                        description                        status                     publicScore  privateScore  \n",
      "---------------------------  --------------------------  ---------------------------------  -------------------------  -----------  ------------  \n",
      "submission_new_hpo.csv       2025-05-27 18:12:07.387000  new features with hyperparameters  SubmissionStatus.COMPLETE  0.51037      0.51037       \n",
      "submission_new_features.csv  2025-05-27 17:56:04.210000  new features                       SubmissionStatus.COMPLETE  0.63043      0.63043       \n",
      "submission.csv               2025-05-27 17:27:29.793000  first raw submission               SubmissionStatus.COMPLETE  1.79854      1.79854       \n",
      "submission_new_hpo.csv       2025-05-25 19:13:47.703000  new features with hyperparameters  SubmissionStatus.COMPLETE  0.51037      0.51037       \n"
     ]
    }
   ],
   "source": [
    "!kaggle competitions submissions -c bike-sharing-demand | tail -n +1 | head -n 6"
   ]
  },
  {
   "cell_type": "markdown",
   "id": "46b44b02-adb7-458e-acc4-bbf1f39b38e3",
   "metadata": {},
   "source": [
    "### ~~~~~~~~~~~~ END ~~~~~~~~~~~~~~~~~~~"
   ]
  },
  {
   "cell_type": "code",
   "execution_count": 93,
   "id": "9766a26c-ed82-4d9d-8fba-e86583e5e10c",
   "metadata": {},
   "outputs": [],
   "source": [
    "dic = {'model': ['initial', 'add_features_model', 'HPO'], \n",
    "    'result':[0.8166, 0.99256, 0.99013]}"
   ]
  },
  {
   "cell_type": "code",
   "execution_count": 94,
   "id": "ce63c9e5-59f5-40f6-b5b6-ef2105ee0085",
   "metadata": {},
   "outputs": [],
   "source": [
    "dd = pd.DataFrame(dic)"
   ]
  },
  {
   "cell_type": "code",
   "execution_count": 111,
   "id": "e14f2670-67a7-4927-b0cc-f5637b2de69e",
   "metadata": {},
   "outputs": [
    {
     "name": "stderr",
     "output_type": "stream",
     "text": [
      "/tmp/ipykernel_239/3474598523.py:1: UserWarning: Pandas doesn't allow columns to be created via a new attribute name - see https://pandas.pydata.org/pandas-docs/stable/indexing.html#attribute-access\n",
      "  dd.kaggle = [1.79854, 0.63043, 0.51037]\n"
     ]
    }
   ],
   "source": [
    "dd.kaggle = [1.79854, 0.63043, 0.51037]"
   ]
  },
  {
   "cell_type": "code",
   "execution_count": 107,
   "id": "fbe6db70-be5a-4c6b-afaa-cb576e66a7c8",
   "metadata": {},
   "outputs": [],
   "source": [
    "import matplotlib.pyplot as plt"
   ]
  },
  {
   "cell_type": "code",
   "execution_count": 110,
   "id": "503608b2-2ca3-425e-b80c-1e54d93606f8",
   "metadata": {},
   "outputs": [
    {
     "data": {
      "image/png": "[encoded data removed]",
      "text/plain": [
       "<Figure size 640x480 with 1 Axes>"
      ]
     },
     "metadata": {},
     "output_type": "display_data"
    }
   ],
   "source": [
    "plt.plot(dd.model, dd.result)\n",
    "plt.show()"
   ]
  },
  {
   "cell_type": "code",
   "execution_count": 113,
   "id": "c65ae55d-55a8-4433-b421-ac62cbd11dca",
   "metadata": {},
   "outputs": [
    {
     "data": {
      "image/png": "[encoded data removed]",
      "text/plain": [
       "<Figure size 640x480 with 1 Axes>"
      ]
     },
     "metadata": {},
     "output_type": "display_data"
    }
   ],
   "source": [
    "plt.plot(dd.model, dd.kaggle)\n",
    "plt.show()"
   ]
  },
  {
   "cell_type": "code",
   "execution_count": null,
   "id": "27b6addd-db58-480a-be04-60bac198333b",
   "metadata": {},
   "outputs": [],
   "source": []
  }
 ],
 "metadata": {
  "kernelspec": {
   "display_name": "Python 3 (ipykernel)",
   "language": "python",
   "name": "python3"
  },
  "language_info": {
   "codemirror_mode": {
    "name": "ipython",
    "version": 3
   },
   "file_extension": ".py",
   "mimetype": "text/x-python",
   "name": "python",
   "nbconvert_exporter": "python",
   "pygments_lexer": "ipython3",
   "version": "3.11.4"
  }
 },
 "nbformat": 4,
 "nbformat_minor": 5
}
